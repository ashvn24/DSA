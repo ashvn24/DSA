{
 "cells": [
  {
   "cell_type": "code",
   "execution_count": 2,
   "metadata": {},
   "outputs": [
    {
     "name": "stdout",
     "output_type": "stream",
     "text": [
      "False\n"
     ]
    }
   ],
   "source": [
    "'''\n",
    "Duplicate Integer\n",
    "Given an integer array nums, return true if any value appears more than once in the array, otherwise return false.\n",
    "'''\n",
    "\n",
    "def duplicate(nums):\n",
    "    for i in nums:\n",
    "        if nums.count(i)>1:\n",
    "            return True\n",
    "    return False\n",
    "\n",
    "nums=[1,2,3,4]\n",
    "print(duplicate(nums))"
   ]
  },
  {
   "cell_type": "code",
   "execution_count": 6,
   "metadata": {},
   "outputs": [
    {
     "name": "stdout",
     "output_type": "stream",
     "text": [
      "False\n"
     ]
    }
   ],
   "source": [
    "'''\n",
    "Anagram\n",
    "'''\n",
    "\n",
    "def anagram(s,t):\n",
    "    if len(s)!=len(t):\n",
    "        return False\n",
    "    for i in s:\n",
    "        if i not in t:\n",
    "            return False\n",
    "        if s.count(i) != t.count(i):\n",
    "            return False\n",
    "    return True\n",
    "\n",
    "print(anagram(\"helo\", 'olegl'))"
   ]
  },
  {
   "cell_type": "code",
   "execution_count": 10,
   "metadata": {},
   "outputs": [
    {
     "name": "stdout",
     "output_type": "stream",
     "text": [
      "[0, 2]\n"
     ]
    }
   ],
   "source": [
    "'''Two integer Sum'''\n",
    "\n",
    "def twosum(nums,target):\n",
    "    for i in range(len(nums)):\n",
    "        for j in range(i+1, len(nums)):\n",
    "            if nums[i]+nums[j]==target:\n",
    "                return [i,j]\n",
    "    return False\n",
    "\n",
    "print(twosum([4,5,6],10))"
   ]
  },
  {
   "cell_type": "code",
   "execution_count": 12,
   "metadata": {},
   "outputs": [
    {
     "name": "stdout",
     "output_type": "stream",
     "text": [
      "[1, 2, 1, 1, 2, 1]\n"
     ]
    }
   ],
   "source": [
    "'''Concatenation of Array'''\n",
    "\n",
    "def concat(nums):\n",
    "    return nums+nums\n",
    "\n",
    "print(concat([1,2,1]))"
   ]
  },
  {
   "cell_type": "code",
   "execution_count": 38,
   "metadata": {},
   "outputs": [
    {
     "name": "stdout",
     "output_type": "stream",
     "text": [
      "[18, 6, 6, 6, 1, -1]\n"
     ]
    }
   ],
   "source": [
    "'''Replace Elements with Greatest Element on Right Side'''\n",
    "\n",
    "def replace(nums):\n",
    "    max_right=-1\n",
    "    for i in range(len(nums)-1, -1, -1):\n",
    "        current = nums[i]\n",
    "        nums[i] = max_right\n",
    "        max_right = max(max_right, current)\n",
    "    return nums\n",
    "\n",
    "print(replace([17, 18, 4, 5, 6, 1]))"
   ]
  },
  {
   "cell_type": "code",
   "execution_count": 1,
   "metadata": {},
   "outputs": [
    {
     "name": "stdout",
     "output_type": "stream",
     "text": [
      "True\n"
     ]
    }
   ],
   "source": [
    "'''isSubsequece'''\n",
    "\n",
    "def isSub(ele, sub):\n",
    "    ind=0\n",
    "    for char in sub:\n",
    "        ind= ele.find(char, ind)\n",
    "        if ind == -1:\n",
    "            return False\n",
    "        ind+=1\n",
    "    return True\n",
    "\n",
    "print(isSub(\"abcde\",\"ace\"))\n",
    "        "
   ]
  },
  {
   "cell_type": "code",
   "execution_count": 6,
   "metadata": {},
   "outputs": [
    {
     "name": "stdout",
     "output_type": "stream",
     "text": [
      "8\n"
     ]
    }
   ],
   "source": [
    "'''length of last word'''\n",
    "\n",
    "def length(sen):\n",
    "    word = sen.split(\" \")\n",
    "    return len(word[-1])\n",
    "\n",
    "print(length(\"heloo sunshine\"))"
   ]
  },
  {
   "cell_type": "code",
   "execution_count": 11,
   "metadata": {},
   "outputs": [
    {
     "name": "stdout",
     "output_type": "stream",
     "text": [
      "flo\n"
     ]
    }
   ],
   "source": [
    "'''longest prefex'''\n",
    "\n",
    "def longest(strs):\n",
    "    res=''\n",
    "    for i in range(len(strs[0])):\n",
    "        for j in strs[1:]:\n",
    "            if len(j)==i or j[i]!=strs[0][i]:\n",
    "                return res\n",
    "        res+=strs[0][i]\n",
    "    return res\n",
    "\n",
    "print(longest([\"flower\",\"float\",\"fly\"]))"
   ]
  },
  {
   "cell_type": "code",
   "execution_count": 14,
   "metadata": {},
   "outputs": [
    {
     "name": "stdout",
     "output_type": "stream",
     "text": [
      "[[1], [1, 1], [1, 2, 1], [1, 3, 3, 1], [1, 4, 6, 4, 1]]\n"
     ]
    }
   ],
   "source": [
    "'''pascals triangle'''\n",
    "\n",
    "def pascals(rows):\n",
    "    res =[[1]]\n",
    "    for i in range(rows-1):\n",
    "        temp = [0]+res[-1]+[0]\n",
    "        row=[]\n",
    "        for j in range(len(res[-1])+1):\n",
    "            row.append(temp[j]+temp[j+1])\n",
    "        res.append(row)\n",
    "    return res\n",
    "\n",
    "print(pascals(5))"
   ]
  }
 ],
 "metadata": {
  "kernelspec": {
   "display_name": "Python 3",
   "language": "python",
   "name": "python3"
  },
  "language_info": {
   "codemirror_mode": {
    "name": "ipython",
    "version": 3
   },
   "file_extension": ".py",
   "mimetype": "text/x-python",
   "name": "python",
   "nbconvert_exporter": "python",
   "pygments_lexer": "ipython3",
   "version": "3.12.1"
  }
 },
 "nbformat": 4,
 "nbformat_minor": 2
}
