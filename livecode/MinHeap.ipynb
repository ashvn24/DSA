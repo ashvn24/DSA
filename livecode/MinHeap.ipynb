{
 "cells": [
  {
   "cell_type": "code",
   "execution_count": null,
   "metadata": {},
   "outputs": [],
   "source": [
    "class minheap:\n",
    "    def __init__(self):\n",
    "        self.heap=[]\n",
    "    def parent(self,i):\n",
    "        return (i-1)//2\n",
    "    def lchild(self,i):\n",
    "        return (2*i)+1\n",
    "    def rchild(self,i):\n",
    "        return (2*i)+2\n",
    "    \n",
    "    def insert(self,data):\n",
    "        self.heap.append(data)\n",
    "        self.heapifyup(len(self.heap)-1)\n",
    "        \n",
    "    def heapifyup(self, i):\n",
    "        while i>0 and self.heap[i]<self.heap[self.parent(i)]:\n",
    "            self.heap[i], self.heap[self.parent(i)] = self.heap[self.parent(i)], self.heap[i]\n",
    "            i = self.parent(i)\n",
    "    \n",
    "    def deletemin(self):\n",
    "        if len(self.heap) == 1:\n",
    "            self.heap.pop\n",
    "        else:\n",
    "            min = self.heap[0]\n",
    "            self.heap[0]= self.heap.pop()\n",
    "            self.heapifydown(0)\n",
    "            return min\n",
    "    \n",
    "    def heapifydown(self,i):\n",
    "        smallest = i\n",
    "        left = self.lchild(i)\n",
    "        right= self.rchild(i)\n",
    "        \n",
    "        if left < len(self.heap) and self.heap[left]< self.heap[smallest]:\n",
    "            smallest = left\n",
    "        if left < len(self.heap) and self.heap[right]< self.heap[smallest]:\n",
    "            smallest = right\n",
    "        \n",
    "        if smallest!=i:\n",
    "            self.heap[i], self.heap[smallest] = self.heap[smallest], self.heap[i]\n",
    "            \n",
    "            self.heapifydown(i)"
   ]
  }
 ],
 "metadata": {
  "language_info": {
   "name": "python"
  }
 },
 "nbformat": 4,
 "nbformat_minor": 2
}
