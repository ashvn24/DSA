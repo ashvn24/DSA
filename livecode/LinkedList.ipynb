{
 "cells": [
  {
   "cell_type": "code",
   "execution_count": null,
   "metadata": {},
   "outputs": [],
   "source": [
    "class Node:\n",
    "    def __init__(self, data):\n",
    "        self.data = data\n",
    "        self.ref = None\n",
    "class LL:\n",
    "    def __init__(self):\n",
    "        self.head =None\n",
    "    def add_beg(self, data):\n",
    "        new_node =Node(data)\n",
    "        new_node.ref = self.head\n",
    "        self.head = new_node\n",
    "    \n",
    "    def add_end(self, data):\n",
    "        new_node= Node(data)\n",
    "        if self.head is None:\n",
    "            self.head = new_node\n",
    "        else:\n",
    "            n= self.head\n",
    "            while n is not None:\n",
    "                n=n.ref\n",
    "            n.ref = new_node\n",
    "    \n",
    "    def print(self):\n",
    "        if self.head is None:\n",
    "            print('empty')\n",
    "        else:\n",
    "            n=self.head\n",
    "            while n is not None:\n",
    "                print(n.data, end=\" \")\n",
    "                n=n.ref\n",
    "                "
   ]
  },
  {
   "cell_type": "code",
   "execution_count": null,
   "metadata": {},
   "outputs": [],
   "source": []
  }
 ],
 "metadata": {
  "language_info": {
   "name": "python"
  }
 },
 "nbformat": 4,
 "nbformat_minor": 2
}
