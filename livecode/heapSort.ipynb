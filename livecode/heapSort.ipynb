{
 "cells": [
  {
   "cell_type": "code",
   "execution_count": null,
   "metadata": {},
   "outputs": [],
   "source": [
    "def heapify(arr, n, i):\n",
    "    largest = i\n",
    "    left = (2*i)+1\n",
    "    right = (2*i)+2\n",
    "    \n",
    "    if left< n and arr[left]> arr[largest]:\n",
    "        largest= left\n",
    "    if right< n and arr[right] > arr[largest]:\n",
    "        largest = right\n",
    "        \n",
    "    if largest!=i:\n",
    "        arr[i], arr[largest] = arr[largest], arr[i]\n",
    "        heapify(arr, i, largest)\n",
    "\n",
    "def heapsort(arr):\n",
    "    n = len(arr)\n",
    "    for i in range((n//2)-1, -1, -1):\n",
    "        heapify(arr, i, n)\n",
    "    for i in range(n-1,0,-1):\n",
    "        arr[0],arr[i]= arr[i], arr[0]\n",
    "        heapify(arr, i,0)\n",
    "    return arr"
   ]
  }
 ],
 "metadata": {
  "language_info": {
   "name": "python"
  }
 },
 "nbformat": 4,
 "nbformat_minor": 2
}
