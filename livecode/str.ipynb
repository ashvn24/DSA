{
 "cells": [
  {
   "cell_type": "code",
   "execution_count": 2,
   "metadata": {},
   "outputs": [
    {
     "name": "stdout",
     "output_type": "stream",
     "text": [
      "['f']\n"
     ]
    }
   ],
   "source": [
    "def max_key(dict):\n",
    "    max_val = max(dict.values())\n",
    "    \n",
    "    max_key = [key for key,value in dict.items() if value==max_val]\n",
    "    \n",
    "    print(max_key)\n",
    "    \n",
    "max_key({'a':59,'b':83,'f':97})"
   ]
  },
  {
   "cell_type": "code",
   "execution_count": 3,
   "metadata": {},
   "outputs": [
    {
     "name": "stdout",
     "output_type": "stream",
     "text": [
      "['f']\n"
     ]
    }
   ],
   "source": [
    "def max_key(dictionary):\n",
    "    max_value = float('-inf')\n",
    "    max_keys = []\n",
    "    \n",
    "    for key, value in dictionary.items():\n",
    "        if value > max_value:\n",
    "            max_value = value\n",
    "            max_keys = [key]\n",
    "        elif value == max_value:\n",
    "            max_keys.append(key)\n",
    "    \n",
    "    print(max_keys)\n",
    "\n",
    "max_key({'a': 59, 'b': 83, 'f': 97})"
   ]
  },
  {
   "cell_type": "code",
   "execution_count": 4,
   "metadata": {},
   "outputs": [
    {
     "name": "stdout",
     "output_type": "stream",
     "text": [
      "{'a': 2, 'b': 2, 'c': 1, 'd': 1}\n"
     ]
    }
   ],
   "source": [
    "def count_items(list_of_dicts):\n",
    "    count_dict = {}\n",
    "    for d in list_of_dicts:\n",
    "        for key, value in d.items():\n",
    "            count_dict[key] = count_dict.get(key, 0) + 1\n",
    "    return count_dict\n",
    "\n",
    "list_of_dicts = [{'a': 1, 'b': 2}, {'a': 3, 'c': 4}, {'b': 5, 'd': 6}]\n",
    "print(count_items(list_of_dicts))"
   ]
  },
  {
   "cell_type": "code",
   "execution_count": 7,
   "metadata": {},
   "outputs": [
    {
     "name": "stdout",
     "output_type": "stream",
     "text": [
      "False\n"
     ]
    }
   ],
   "source": [
    "def check_anagram(dict1,dict2):\n",
    "    return sorted(dict1)==sorted(dict2)\n",
    "\n",
    "print(check_anagram('gods', 'dog'))"
   ]
  },
  {
   "cell_type": "code",
   "execution_count": 19,
   "metadata": {},
   "outputs": [
    {
     "name": "stdout",
     "output_type": "stream",
     "text": [
      "{'e': 6}\n"
     ]
    }
   ],
   "source": [
    "def count_occ(str):\n",
    "    count={}\n",
    "    for i in str:\n",
    "        if i !=' ':\n",
    "            count[i]=count.get(i,0)+1\n",
    "    return {key:value for key, value in count.items() if value==max(count.values())}\n",
    "\n",
    "print(count_occ('heloo all i hpe you are fine welcome'))"
   ]
  },
  {
   "cell_type": "code",
   "execution_count": null,
   "metadata": {},
   "outputs": [],
   "source": []
  }
 ],
 "metadata": {
  "kernelspec": {
   "display_name": "Python 3",
   "language": "python",
   "name": "python3"
  },
  "language_info": {
   "codemirror_mode": {
    "name": "ipython",
    "version": 3
   },
   "file_extension": ".py",
   "mimetype": "text/x-python",
   "name": "python",
   "nbconvert_exporter": "python",
   "pygments_lexer": "ipython3",
   "version": "3.12.1"
  }
 },
 "nbformat": 4,
 "nbformat_minor": 2
}
