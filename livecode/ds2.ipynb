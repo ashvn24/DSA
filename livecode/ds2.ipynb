{
 "cells": [
  {
   "cell_type": "code",
   "execution_count": 3,
   "metadata": {},
   "outputs": [
    {
     "name": "stdout",
     "output_type": "stream",
     "text": [
      "[0, 3, 5, 8, 9]\n"
     ]
    }
   ],
   "source": [
    "def bubblesort(arr):\n",
    "    for i in range(len(arr)):\n",
    "        for j in range(0, len(arr)-i-1):\n",
    "            if arr[j]>arr[j+1]:\n",
    "                arr[j],arr[j+1] = arr[j+1], arr[j]\n",
    "                \n",
    "    return arr\n",
    "\n",
    "print(bubblesort([5,8,3,9,0]))"
   ]
  },
  {
   "cell_type": "code",
   "execution_count": 10,
   "metadata": {},
   "outputs": [
    {
     "name": "stdout",
     "output_type": "stream",
     "text": [
      "[27, 29, 31, 38, 43, 56]\n"
     ]
    }
   ],
   "source": [
    "def insertion(arr):\n",
    "    for i in range(1,len(arr)):\n",
    "        j=i\n",
    "        while arr[j-1]>arr[j] and j>0:\n",
    "            arr[j-1],arr[j] = arr[j], arr[j-1]\n",
    "            j-=1\n",
    "    return arr\n",
    "print(insertion([38,27,43,31,56,29]))"
   ]
  },
  {
   "cell_type": "code",
   "execution_count": 14,
   "metadata": {},
   "outputs": [
    {
     "name": "stdout",
     "output_type": "stream",
     "text": [
      "[1, 3, 3, 5, 6, 7, 9, 9, 44, 88]\n"
     ]
    }
   ],
   "source": [
    "def selection(arr):\n",
    "    for i in range(len(arr)):\n",
    "        min=i\n",
    "        for j in range(i+1,len(arr)):\n",
    "            if arr[j]<arr[min]:\n",
    "                min=j\n",
    "        arr[i],arr[min]=arr[min],arr[i]\n",
    "        \n",
    "    return arr\n",
    "\n",
    "print(selection([5,7,9,3,1,3,44,6,88,9]))\n",
    "                "
   ]
  },
  {
   "cell_type": "code",
   "execution_count": 16,
   "metadata": {},
   "outputs": [
    {
     "name": "stdout",
     "output_type": "stream",
     "text": [
      "[4, 5, 5, 7, 8]\n"
     ]
    }
   ],
   "source": [
    "def bubble(arr):\n",
    "    for i in range(len(arr)):\n",
    "        for j in range(0, len(arr)-i-1):\n",
    "            if arr[j+1]<arr[j]:\n",
    "                arr[j+1],arr[j]=arr[j],arr[j+1]\n",
    "    return arr\n",
    "\n",
    "print(bubble([4,5,5,7,8]))"
   ]
  },
  {
   "cell_type": "code",
   "execution_count": 19,
   "metadata": {},
   "outputs": [
    {
     "name": "stdout",
     "output_type": "stream",
     "text": [
      "[1, 4, 6, 8, 9, 32]\n"
     ]
    }
   ],
   "source": [
    "def insertion(arr):\n",
    "    for i in range(1,len(arr)):\n",
    "        j=i\n",
    "        while arr[j-1]>arr[j] and j>0:\n",
    "            arr[j-1],arr[j]=arr[j],arr[j-1]\n",
    "            j-=1\n",
    "            \n",
    "    return arr\n",
    "print(insertion([9,8,6,4,32,1]))"
   ]
  },
  {
   "cell_type": "code",
   "execution_count": 20,
   "metadata": {},
   "outputs": [
    {
     "name": "stdout",
     "output_type": "stream",
     "text": [
      "[1, 3, 4, 6, 7, 22]\n"
     ]
    }
   ],
   "source": [
    "def selection(arr):\n",
    "    for i in range(len(arr)):\n",
    "        min=i\n",
    "        for j in range(i+1, len(arr)):\n",
    "            if arr[j]<arr[min]:\n",
    "                min=j\n",
    "            arr[i],arr[min] = arr[min],arr[i]\n",
    "    return arr\n",
    "print(insertion([7,6,4,3,22,1]))"
   ]
  },
  {
   "cell_type": "code",
   "execution_count": 28,
   "metadata": {},
   "outputs": [
    {
     "name": "stdout",
     "output_type": "stream",
     "text": [
      "[2, 3, 4, 6, 7]\n",
      "[4, 5, 6]\n",
      "[2, 3, 4, 5, 6]\n"
     ]
    }
   ],
   "source": [
    "def bubble(arr):\n",
    "    for i in range(len(arr)):\n",
    "        for j in range(0,len(arr)-i-1):\n",
    "            if arr[j+1]<arr[j]:\n",
    "                arr[j+1],arr[j]=arr[j],arr[j+1]\n",
    "    return arr\n",
    "\n",
    "def insertion(arr):\n",
    "    for i in range(len(arr)):\n",
    "        j=i\n",
    "        while arr[j-1]>arr[j] and j>0:\n",
    "            arr[j-1],arr[j] = arr[j],arr[j-1]\n",
    "            j-=1\n",
    "    return arr\n",
    "\n",
    "def selection(arr):\n",
    "    for i in range(len(arr)):\n",
    "        min=i\n",
    "        for j in range(i+1, len(arr)):\n",
    "            if arr[j]<arr[min]:\n",
    "                min=j\n",
    "        arr[i],arr[min]=arr[min],arr[i]\n",
    "    return arr\n",
    "\n",
    "print(bubble([7,6,4,3,2]))\n",
    "print(insertion([6,5,4]))\n",
    "print(selection([6,5,4,3,2]))"
   ]
  },
  {
   "cell_type": "code",
   "execution_count": 36,
   "metadata": {},
   "outputs": [
    {
     "name": "stdout",
     "output_type": "stream",
     "text": [
      "[4, 6, 8, 2, 4, 9]\n"
     ]
    }
   ],
   "source": [
    "# quick sort\n",
    "def pivot(arr, low, high):\n",
    "    p=arr[low]\n",
    "    i=low+1\n",
    "    j=high\n",
    "    \n",
    "    while True:\n",
    "        while i<=j and arr[i]<=p:\n",
    "            i+=1\n",
    "            \n",
    "        while i<=j and arr[i]>=p:\n",
    "            j-=1\n",
    "        if i<=j:\n",
    "            arr[i],arr[j]=arr[j],arr[i]\n",
    "        else:\n",
    "            break\n",
    "    arr[low],arr[j]=arr[j],arr[low]\n",
    "    return j\n",
    "\n",
    "def quick(arr,low,high):\n",
    "    if low<high:\n",
    "        pivot_index=pivot(arr, low, high)\n",
    "        quick(arr,low,pivot_index-1)\n",
    "        quick(arr,pivot_index+1, high)\n",
    "\n",
    "ar=[4,6,8,9,4,2]\n",
    "quick(ar,0,len(ar)-1)\n",
    "print (ar)\n",
    "    "
   ]
  }
 ],
 "metadata": {
  "language_info": {
   "name": "python"
  }
 },
 "nbformat": 4,
 "nbformat_minor": 2
}
