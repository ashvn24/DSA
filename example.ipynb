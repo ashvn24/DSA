{
 "cells": [
  {
   "cell_type": "code",
   "execution_count": 32,
   "metadata": {},
   "outputs": [
    {
     "name": "stdout",
     "output_type": "stream",
     "text": [
      "x\n",
      "y\n"
     ]
    }
   ],
   "source": [
    "for i in {\"x\":2,\"y\":4}:\n",
    "    print(i)"
   ]
  },
  {
   "cell_type": "code",
   "execution_count": 2,
   "metadata": {},
   "outputs": [
    {
     "name": "stdout",
     "output_type": "stream",
     "text": [
      "x\n",
      "y\n"
     ]
    }
   ],
   "source": [
    "for i in {\"a\":5,\"b\":7}:\n",
    "    print(i)"
   ]
  },
  {
   "cell_type": "code",
   "execution_count": 17,
   "metadata": {},
   "outputs": [
    {
     "name": "stdout",
     "output_type": "stream",
     "text": [
      "a 4\n",
      "b 7\n"
     ]
    }
   ],
   "source": [
    "for i,j in {\"a\":4,\"b\":7}.items():\n",
    "    print(i,j)\n",
    "    "
   ]
  },
  {
   "cell_type": "code",
   "execution_count": 23,
   "metadata": {},
   "outputs": [
    {
     "name": "stdout",
     "output_type": "stream",
     "text": [
      "6.0\n"
     ]
    }
   ],
   "source": [
    "num = int(input(\"enter your limit? \"))\n",
    "\n",
    "total=0\n",
    "\n",
    "for i in range(num):\n",
    "    total += float(input('enter number'))\n",
    "\n",
    "avg=total/num\n",
    "print(avg)\n"
   ]
  },
  {
   "cell_type": "code",
   "execution_count": 31,
   "metadata": {},
   "outputs": [
    {
     "name": "stdout",
     "output_type": "stream",
     "text": [
      "3.0\n"
     ]
    }
   ],
   "source": [
    "num = input(\"enter the numbers-:\").split()\n",
    "\n",
    "val = [int(i) for i in num]\n",
    "\n",
    "print(sum(val)/len(val))\n"
   ]
  },
  {
   "cell_type": "code",
   "execution_count": 42,
   "metadata": {},
   "outputs": [
    {
     "name": "stdout",
     "output_type": "stream",
     "text": [
      "0\n",
      "2\n",
      "4\n",
      "6\n",
      "8\n",
      "10\n",
      "sum: 30\n"
     ]
    }
   ],
   "source": [
    "lm = int(input(\"enter limit? \"))\n",
    "\n",
    "total=0\n",
    "for i in range(lm+1):\n",
    "    if i%2 == 0:\n",
    "        print(i)\n",
    "        total +=i\n",
    "print(\"sum:\",total)"
   ]
  },
  {
   "cell_type": "code",
   "execution_count": 44,
   "metadata": {},
   "outputs": [
    {
     "name": "stdout",
     "output_type": "stream",
     "text": [
      "28.274333882308138\n"
     ]
    }
   ],
   "source": [
    "from math import pi \n",
    "r = float(input(\"enter the radius :\"))\n",
    "area= pi *(r*r)\n",
    "print(area)\n"
   ]
  },
  {
   "cell_type": "code",
   "execution_count": 53,
   "metadata": {},
   "outputs": [
    {
     "name": "stdout",
     "output_type": "stream",
     "text": [
      "hlo hiiii\n"
     ]
    }
   ],
   "source": [
    "wd = input(\"enter string\")\n",
    "words = wd.split()\n",
    "rev = ' '.join(words[::-1])\n",
    "print(rev)"
   ]
  },
  {
   "cell_type": "code",
   "execution_count": 54,
   "metadata": {},
   "outputs": [
    {
     "name": "stdout",
     "output_type": "stream",
     "text": [
      "hsa si eman ym iih\n"
     ]
    }
   ],
   "source": [
    "wd = input(\"enter the string? \")\n",
    "\n",
    "rev = wd[::-1]\n",
    "print(rev)"
   ]
  },
  {
   "cell_type": "code",
   "execution_count": 64,
   "metadata": {},
   "outputs": [
    {
     "name": "stdout",
     "output_type": "stream",
     "text": [
      "ooleh iih\n"
     ]
    }
   ],
   "source": [
    "wd = input(\"enter the sentence ? \")\n",
    "words = wd.split()\n",
    "\n",
    "rev_wd = [i[::-1] for i in words]\n",
    "\n",
    "rev_sen = ' '.join(rev_wd)\n",
    "print(rev_sen)"
   ]
  },
  {
   "cell_type": "code",
   "execution_count": null,
   "metadata": {},
   "outputs": [],
   "source": []
  }
 ],
 "metadata": {
  "kernelspec": {
   "display_name": "Python 3",
   "language": "python",
   "name": "python3"
  },
  "language_info": {
   "codemirror_mode": {
    "name": "ipython",
    "version": 3
   },
   "file_extension": ".py",
   "mimetype": "text/x-python",
   "name": "python",
   "nbconvert_exporter": "python",
   "pygments_lexer": "ipython3",
   "version": "3.12.1"
  }
 },
 "nbformat": 4,
 "nbformat_minor": 2
}
