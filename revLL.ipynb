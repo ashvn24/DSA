{
 "cells": [
  {
   "cell_type": "code",
   "execution_count": 21,
   "metadata": {},
   "outputs": [
    {
     "name": "stdout",
     "output_type": "stream",
     "text": [
      "0 -> 8 -> 8 -> 2 -> 9 -> 7 -> "
     ]
    }
   ],
   "source": [
    "class Node:\n",
    "    def __init__(self,data):\n",
    "        self.data=data\n",
    "        self.ref=None\n",
    "        \n",
    "class LL:\n",
    "    def __init__(self):\n",
    "        self.head=None\n",
    "    \n",
    "    def add(self,data):\n",
    "        if self.head is None:\n",
    "            new_node=Node(data)\n",
    "            self.head=new_node\n",
    "        else:\n",
    "            n=self.head\n",
    "            while n.ref is not None:\n",
    "                n=n.ref\n",
    "            new_node=Node(data)\n",
    "            n.ref=new_node\n",
    "    \n",
    "    def add_beg(self,data):\n",
    "        new_node=Node(data)\n",
    "        new_node.ref=self.head\n",
    "        self.head=new_node\n",
    "        \n",
    "    def add_af(self,data,x):\n",
    "        if self.head is None:\n",
    "            print(\"empty\")\n",
    "        else:\n",
    "            n=self.head\n",
    "            while n is not None:\n",
    "                if n.data==x:\n",
    "                    break\n",
    "                n=n.ref\n",
    "            if n is None:\n",
    "                print(\"not found\")\n",
    "            else:\n",
    "                new_node=Node(data)\n",
    "                new_node.ref=n.ref\n",
    "                n.ref=new_node\n",
    "                \n",
    "    def add_bef(self,data,x):\n",
    "        if self.head is None:\n",
    "            print(\"LL empty\")\n",
    "        elif self.head.data==x:\n",
    "            new_node=Node(data)\n",
    "            new_node.ref=self.head\n",
    "            self.head=new_node\n",
    "        else:\n",
    "            n=self.head\n",
    "            while n is not None:\n",
    "                if n.ref.data==x:\n",
    "                    break\n",
    "                n=n.ref\n",
    "            if n is None:\n",
    "                print(\"empty\")\n",
    "            else:\n",
    "                new_node=Node(data)\n",
    "                new_node.ref=n.ref\n",
    "                n.ref=new_node\n",
    "        \n",
    "    def print(self):\n",
    "        if self.head is None:\n",
    "            print(\"empty\")\n",
    "        else:\n",
    "            n=self.head\n",
    "            while n is not None:\n",
    "                print(n.data,\"->\",end=\" \")\n",
    "                n=n.ref\n",
    "                \n",
    "L=LL()\n",
    "L.add(8)\n",
    "L.add(8)\n",
    "L.add(9)\n",
    "L.add_beg(0)\n",
    "L.add_af(7,9)\n",
    "L.add_bef(2,9)\n",
    "L.print()\n"
   ]
  }
 ],
 "metadata": {
  "kernelspec": {
   "display_name": "Python 3",
   "language": "python",
   "name": "python3"
  },
  "language_info": {
   "codemirror_mode": {
    "name": "ipython",
    "version": 3
   },
   "file_extension": ".py",
   "mimetype": "text/x-python",
   "name": "python",
   "nbconvert_exporter": "python",
   "pygments_lexer": "ipython3",
   "version": "3.12.1"
  }
 },
 "nbformat": 4,
 "nbformat_minor": 2
}
