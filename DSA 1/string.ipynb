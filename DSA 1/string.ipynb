{
 "cells": [
  {
   "cell_type": "code",
   "execution_count": 2,
   "metadata": {},
   "outputs": [
    {
     "name": "stdout",
     "output_type": "stream",
     "text": [
      "True\n"
     ]
    }
   ],
   "source": [
    "def palindrome(str):\n",
    "    return str == str[::-1]\n",
    "\n",
    "print(palindrome('malayalam'))"
   ]
  },
  {
   "cell_type": "code",
   "execution_count": 4,
   "metadata": {},
   "outputs": [
    {
     "name": "stdout",
     "output_type": "stream",
     "text": [
      "True\n"
     ]
    }
   ],
   "source": [
    "def palin(str):\n",
    "    rev = \"\"\n",
    "    for i in range(len(str)-1,-1,-1):\n",
    "        rev +=str[i]\n",
    "    return str == rev\n",
    "\n",
    "print(palin(\"mam\"))"
   ]
  },
  {
   "cell_type": "code",
   "execution_count": 31,
   "metadata": {},
   "outputs": [
    {
     "name": "stdout",
     "output_type": "stream",
     "text": [
      "Heloo How Are \n"
     ]
    }
   ],
   "source": [
    "def cap(sen):\n",
    "    words = sen.split()\n",
    "    sen =\"\"\n",
    "    \n",
    "    for wd in words:\n",
    "        cap = wd[0].upper()+ wd[1:]\n",
    "        sen+= cap+ ' '\n",
    "    return sen\n",
    "\n",
    "print(cap(\"heloo how are\"))\n",
    "    "
   ]
  },
  {
   "cell_type": "code",
   "execution_count": 37,
   "metadata": {},
   "outputs": [
    {
     "name": "stdout",
     "output_type": "stream",
     "text": [
      "Heloo How\n"
     ]
    }
   ],
   "source": [
    "def cap(sen):\n",
    "    words = sen.split()\n",
    "    cap = [word[0].upper() + word[1:] for word in words]\n",
    "    capsen = ' '.join(cap)\n",
    "    return capsen\n",
    "\n",
    "print(cap(\"heloo how\"))"
   ]
  },
  {
   "cell_type": "code",
   "execution_count": 38,
   "metadata": {},
   "outputs": [
    {
     "name": "stdout",
     "output_type": "stream",
     "text": [
      "hell** h*w are y*u\n"
     ]
    }
   ],
   "source": [
    "def replace(sen, ele, re):\n",
    "    sent =\"\"\n",
    "    for i in sen:\n",
    "        if i == ele:\n",
    "            sent+=re\n",
    "        else:\n",
    "            sent+=i\n",
    "    return sent\n",
    "print(replace(\"helloo how are you\", \"o\",\"*\"))"
   ]
  }
 ],
 "metadata": {
  "kernelspec": {
   "display_name": "Python 3",
   "language": "python",
   "name": "python3"
  },
  "language_info": {
   "codemirror_mode": {
    "name": "ipython",
    "version": 3
   },
   "file_extension": ".py",
   "mimetype": "text/x-python",
   "name": "python",
   "nbconvert_exporter": "python",
   "pygments_lexer": "ipython3",
   "version": "3.12.1"
  }
 },
 "nbformat": 4,
 "nbformat_minor": 2
}
