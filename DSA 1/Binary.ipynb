{
 "cells": [
  {
   "cell_type": "code",
   "execution_count": 8,
   "metadata": {},
   "outputs": [
    {
     "name": "stdout",
     "output_type": "stream",
     "text": [
      "element fount at 4\n"
     ]
    }
   ],
   "source": [
    "def binary(arr, x):\n",
    "    start = 0\n",
    "    end = len(arr)-1\n",
    "    \n",
    "    while start<=end:\n",
    "        mid = int(start+end)//2\n",
    "        if arr[mid] == x:\n",
    "            print(\"element fount at\", mid+1)\n",
    "            return\n",
    "        elif x> arr[mid]:\n",
    "            start = mid+1\n",
    "        elif x<arr[mid]:\n",
    "            end=mid-1\n",
    "    print(\"not found\")\n",
    "    \n",
    "list1=[1,2,3,4,5]\n",
    "binary(list1,4)"
   ]
  },
  {
   "cell_type": "code",
   "execution_count": 15,
   "metadata": {},
   "outputs": [
    {
     "name": "stdout",
     "output_type": "stream",
     "text": [
      "5\n"
     ]
    }
   ],
   "source": [
    "def binary(arr, x, start, end):\n",
    "    while start<=end:\n",
    "        mid = int(start+end)//2\n",
    "        if arr[mid]==x:\n",
    "            return mid+1\n",
    "        elif x> arr[mid]:\n",
    "            return binary(arr, x, mid+1, end)\n",
    "        else:\n",
    "            return binary(arr,x, start, mid-1)\n",
    "    return -1\n",
    "\n",
    "arr=[1,2,3,4,58,9]\n",
    "print(binary(arr, 58 , 0, len(arr)-1 ))"
   ]
  }
 ],
 "metadata": {
  "kernelspec": {
   "display_name": "Python 3",
   "language": "python",
   "name": "python3"
  },
  "language_info": {
   "codemirror_mode": {
    "name": "ipython",
    "version": 3
   },
   "file_extension": ".py",
   "mimetype": "text/x-python",
   "name": "python",
   "nbconvert_exporter": "python",
   "pygments_lexer": "ipython3",
   "version": "3.12.1"
  }
 },
 "nbformat": 4,
 "nbformat_minor": 2
}
