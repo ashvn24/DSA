{
 "cells": [
  {
   "cell_type": "code",
   "execution_count": 4,
   "metadata": {},
   "outputs": [
    {
     "name": "stdout",
     "output_type": "stream",
     "text": [
      "6\n"
     ]
    }
   ],
   "source": [
    "def fact(n):\n",
    "    result=1\n",
    "    if n<=1:\n",
    "        return 1\n",
    "    for i in range(1,n+1):\n",
    "        result *=i\n",
    "    return result\n",
    "\n",
    "print(fact(3))"
   ]
  },
  {
   "cell_type": "code",
   "execution_count": 27,
   "metadata": {},
   "outputs": [
    {
     "data": {
      "text/plain": [
       "6"
      ]
     },
     "execution_count": 27,
     "metadata": {},
     "output_type": "execute_result"
    }
   ],
   "source": [
    "def fact(n):\n",
    "    if n<=1:\n",
    "        return 1\n",
    "    return n * fact(n-1)\n",
    "\n",
    "fact(3)"
   ]
  },
  {
   "cell_type": "code",
   "execution_count": 34,
   "metadata": {},
   "outputs": [
    {
     "name": "stdout",
     "output_type": "stream",
     "text": [
      "2 3 5 7 11 13 17 19 23 29 31 37 41 43 47 53 59 61 67 71 73 79 83 89 97 1\n"
     ]
    }
   ],
   "source": [
    "\n",
    "for num in range(1, 100+1):\n",
    "    if num>1:\n",
    "        for i in range(2, num):\n",
    "            if num%i ==0:\n",
    "                break\n",
    "        else:\n",
    "            print(num, end =\" \")\n",
    "print(3%2)"
   ]
  },
  {
   "cell_type": "code",
   "execution_count": 38,
   "metadata": {},
   "outputs": [
    {
     "name": "stdout",
     "output_type": "stream",
     "text": [
      "[4, 2, 7, 3, 5, 8, 6]\n"
     ]
    }
   ],
   "source": [
    "list1=[3,4,2,2,5,7,6,8,3,5,8,6]\n",
    "\n",
    "for i in list1:\n",
    "    if list1.count(i)>1:\n",
    "        while list1.count(i)>1:\n",
    "            list1.remove(i)\n",
    "print(list1)"
   ]
  },
  {
   "cell_type": "code",
   "execution_count": 44,
   "metadata": {},
   "outputs": [
    {
     "name": "stdout",
     "output_type": "stream",
     "text": [
      "{1: 'a', 2: 'b', 3: 'c'}\n"
     ]
    }
   ],
   "source": [
    "dict = {\"a\": 1, \"b\": 2, \"c\": 3}\n",
    "\n",
    "for key in list(dict):\n",
    "    val = dict.pop(key)\n",
    "    dict[val]=key\n",
    "print(dict)\n"
   ]
  },
  {
   "cell_type": "code",
   "execution_count": 65,
   "metadata": {},
   "outputs": [
    {
     "name": "stdout",
     "output_type": "stream",
     "text": [
      "15\n"
     ]
    }
   ],
   "source": [
    "a=654\n",
    "r=0\n",
    "while a>0:\n",
    "    n = a%10\n",
    "    r+=n\n",
    "    a=a//10\n",
    "print(r)"
   ]
  },
  {
   "cell_type": "code",
   "execution_count": 69,
   "metadata": {},
   "outputs": [
    {
     "name": "stdout",
     "output_type": "stream",
     "text": [
      "l hw are you\n"
     ]
    }
   ],
   "source": [
    "str =\"hellloo how are you\"\n",
    "char=list(str)\n",
    "for i in char:\n",
    "    if not i == ' ':\n",
    "        if char.count(i)>1:\n",
    "            while char.count(i)>1:\n",
    "                char.remove(i)\n",
    "            \n",
    "print(\"\".join(char))"
   ]
  }
 ],
 "metadata": {
  "kernelspec": {
   "display_name": "Python 3",
   "language": "python",
   "name": "python3"
  },
  "language_info": {
   "codemirror_mode": {
    "name": "ipython",
    "version": 3
   },
   "file_extension": ".py",
   "mimetype": "text/x-python",
   "name": "python",
   "nbconvert_exporter": "python",
   "pygments_lexer": "ipython3",
   "version": "3.12.1"
  }
 },
 "nbformat": 4,
 "nbformat_minor": 2
}
