{
 "cells": [
  {
   "cell_type": "code",
   "execution_count": 2,
   "metadata": {},
   "outputs": [
    {
     "name": "stdout",
     "output_type": "stream",
     "text": [
      "[1, 3, 12, 5, 0, 0]\n"
     ]
    }
   ],
   "source": [
    "#push 0's to the end 283\n",
    "\n",
    "list1=[1,0,3,12,0,5]\n",
    "\n",
    "i=0\n",
    "prev=0\n",
    "while i<len(list1):\n",
    "    if list1[i]!=0:\n",
    "        list1[prev],list1[i]=list1[i],list1[prev]\n",
    "        prev+=1\n",
    "    i+=1\n",
    "print(list1)"
   ]
  },
  {
   "cell_type": "code",
   "execution_count": 4,
   "metadata": {},
   "outputs": [
    {
     "name": "stdout",
     "output_type": "stream",
     "text": [
      "['o', 'l', 'l', 'e', 'h']\n"
     ]
    }
   ],
   "source": [
    "#string reverse in list 344\n",
    "\n",
    "str=['h','e','l','l','o']\n",
    "\n",
    "i=0\n",
    "j=len(str)-1\n",
    "while i<j:\n",
    "    str[i],str[j]=str[j],str[i]\n",
    "    i+=1\n",
    "    j-=1\n",
    "print(str)"
   ]
  },
  {
   "cell_type": "code",
   "execution_count": 24,
   "metadata": {},
   "outputs": [
    {
     "name": "stdout",
     "output_type": "stream",
     "text": [
      "5\n"
     ]
    }
   ],
   "source": [
    "#best time to buy and sell stock 121\n",
    "\n",
    "stock=[7,1,5,3,6,4]\n",
    "best_price=float('inf')\n",
    "max_profit=0\n",
    "for i in stock:\n",
    "    best_price=min(best_price,i)\n",
    "    max_profit=max(max_profit,i-best_price)\n",
    "\n",
    "print(max_profit)\n",
    "        "
   ]
  },
  {
   "cell_type": "code",
   "execution_count": 40,
   "metadata": {},
   "outputs": [
    {
     "name": "stdout",
     "output_type": "stream",
     "text": [
      "isomerphic\n"
     ]
    }
   ],
   "source": [
    "#205. Isomorphic Strings\n",
    "s=\"egg\"\n",
    "t=\"add\"\n",
    "\n",
    "if len(s)!=len(t):\n",
    "    print('false')\n",
    "\n",
    "smap={}    \n",
    "tmap={}\n",
    "\n",
    "for i in range(0,len(s)):\n",
    "    sch=s[i]\n",
    "    tch=t[i]\n",
    "    \n",
    "    if sch not in smap:\n",
    "        smap[sch] =tch\n",
    "    if tch not in tmap:\n",
    "        tmap[tch]=sch\n",
    "    \n",
    "    if smap[sch]!=tch or tmap[tch]!=sch:\n",
    "        print('false')\n",
    "    \n",
    "    \n",
    "print('isomerphic')\n"
   ]
  },
  {
   "cell_type": "code",
   "execution_count": 49,
   "metadata": {},
   "outputs": [
    {
     "name": "stdout",
     "output_type": "stream",
     "text": [
      "True\n"
     ]
    }
   ],
   "source": [
    "#202. Happy Number\n",
    "def happy(n):\n",
    "    seen=set()\n",
    "    while n not in seen:\n",
    "        seen.add(n)\n",
    "        sq_sum=0\n",
    "        while n>0:\n",
    "            sq_sum+=(n%10)**2\n",
    "            n//=10\n",
    "        if sq_sum==1:\n",
    "            return True\n",
    "        n=sq_sum\n",
    "    return False\n",
    "\n",
    "print(happy(19))"
   ]
  },
  {
   "cell_type": "code",
   "execution_count": 2,
   "metadata": {},
   "outputs": [
    {
     "name": "stdout",
     "output_type": "stream",
     "text": [
      "4\n"
     ]
    }
   ],
   "source": [
    "#136 which no. occurs only once\n",
    "inp=[4,1,2,1,2]\n",
    "dic={}\n",
    "for i in inp:\n",
    "    dic[i]=dic.get(i,0)+1\n",
    "for i,j in dic.items():\n",
    "    if j ==1:\n",
    "        print(i)"
   ]
  },
  {
   "cell_type": "code",
   "execution_count": 10,
   "metadata": {},
   "outputs": [
    {
     "name": "stdout",
     "output_type": "stream",
     "text": [
      "[1, 4, 9]\n"
     ]
    }
   ],
   "source": [
    "def plusOne(digits):\n",
    "    for i in range(len(digits)-1,-1,-1):\n",
    "        if digits[i]<9:\n",
    "            digits[i]+=1\n",
    "            return digits\n",
    "        else:\n",
    "           digits[i]=0\n",
    "    digits.insert(0,1)\n",
    "    return digits\n",
    "    \n",
    "print(plusOne([1,4,8]))"
   ]
  },
  {
   "cell_type": "code",
   "execution_count": 2,
   "metadata": {},
   "outputs": [
    {
     "name": "stdout",
     "output_type": "stream",
     "text": [
      "<__main__.TreeNode object at 0x00000280C90F6BA0>\n"
     ]
    }
   ],
   "source": [
    "# Definition for a binary tree node.\n",
    "class TreeNode(object):\n",
    "    def __init__(self, val=0, left=None, right=None):\n",
    "        self.val = val\n",
    "        self.left = left\n",
    "        self.right = right\n",
    "class Solution(object):\n",
    "    def searchBST(self, root, val):\n",
    "        curr_node = root\n",
    "        while curr_node:\n",
    "            if curr_node.val == val:\n",
    "                return curr_node\n",
    "            elif val>curr_node.val:\n",
    "                curr_node=curr_node.right\n",
    "            else:\n",
    "                curr_node = curr_node.left\n",
    "\n",
    "        return None\n",
    "    \n",
    "solution = Solution()\n",
    "root = TreeNode(4)\n",
    "root.left = TreeNode(2)\n",
    "root.right = TreeNode(7)\n",
    "root.left.left = TreeNode(1)\n",
    "root.left.right = TreeNode(3)\n",
    "result = solution.searchBST(root, 2)\n",
    "print(result.val)"
   ]
  }
 ],
 "metadata": {
  "kernelspec": {
   "display_name": "Python 3",
   "language": "python",
   "name": "python3"
  },
  "language_info": {
   "codemirror_mode": {
    "name": "ipython",
    "version": 3
   },
   "file_extension": ".py",
   "mimetype": "text/x-python",
   "name": "python",
   "nbconvert_exporter": "python",
   "pygments_lexer": "ipython3",
   "version": "3.12.1"
  }
 },
 "nbformat": 4,
 "nbformat_minor": 2
}
