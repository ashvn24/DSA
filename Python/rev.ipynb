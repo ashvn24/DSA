{
 "cells": [
  {
   "cell_type": "code",
   "execution_count": 1,
   "metadata": {},
   "outputs": [
    {
     "ename": "AttributeError",
     "evalue": "'TrieNode' object has no attribute 'children'",
     "output_type": "error",
     "traceback": [
      "\u001b[1;31m---------------------------------------------------------------------------\u001b[0m",
      "\u001b[1;31mAttributeError\u001b[0m                            Traceback (most recent call last)",
      "Cell \u001b[1;32mIn[1], line 43\u001b[0m\n\u001b[0;32m     40\u001b[0m         \u001b[38;5;28;01mreturn\u001b[39;00m sugg\n\u001b[0;32m     42\u001b[0m tr \u001b[38;5;241m=\u001b[39m Trie()\n\u001b[1;32m---> 43\u001b[0m \u001b[43mtr\u001b[49m\u001b[38;5;241;43m.\u001b[39;49m\u001b[43minsert\u001b[49m\u001b[43m(\u001b[49m\u001b[38;5;124;43m\"\u001b[39;49m\u001b[38;5;124;43mapple\u001b[39;49m\u001b[38;5;124;43m\"\u001b[39;49m\u001b[43m)\u001b[49m\n\u001b[0;32m     44\u001b[0m tr\u001b[38;5;241m.\u001b[39minsert(\u001b[38;5;124m\"\u001b[39m\u001b[38;5;124mmango\u001b[39m\u001b[38;5;124m\"\u001b[39m)\n",
      "Cell \u001b[1;32mIn[1], line 13\u001b[0m, in \u001b[0;36mTrie.insert\u001b[1;34m(self, word)\u001b[0m\n\u001b[0;32m     11\u001b[0m node \u001b[38;5;241m=\u001b[39m \u001b[38;5;28mself\u001b[39m\u001b[38;5;241m.\u001b[39mroot\n\u001b[0;32m     12\u001b[0m \u001b[38;5;28;01mfor\u001b[39;00m char \u001b[38;5;129;01min\u001b[39;00m word:\n\u001b[1;32m---> 13\u001b[0m     \u001b[38;5;28;01mif\u001b[39;00m char \u001b[38;5;129;01mnot\u001b[39;00m \u001b[38;5;129;01min\u001b[39;00m \u001b[43mnode\u001b[49m\u001b[38;5;241;43m.\u001b[39;49m\u001b[43mchildren\u001b[49m:\n\u001b[0;32m     14\u001b[0m         node\u001b[38;5;241m.\u001b[39mchildren[char] \u001b[38;5;241m=\u001b[39m TrieNode()\n\u001b[0;32m     15\u001b[0m     node \u001b[38;5;241m=\u001b[39m node\u001b[38;5;241m.\u001b[39mchildren[char]\n",
      "\u001b[1;31mAttributeError\u001b[0m: 'TrieNode' object has no attribute 'children'"
     ]
    }
   ],
   "source": [
    "class TrieNode:\n",
    "    def __init___(self):\n",
    "        self.children={}\n",
    "        self.is_end= False\n",
    "        \n",
    "class Trie:\n",
    "    def __init__(self):\n",
    "        self.root = TrieNode()\n",
    "    \n",
    "    def insert(self, word):\n",
    "        node = self.root\n",
    "        for char in word:\n",
    "            if char not in node.children:\n",
    "                node.children[char] = TrieNode()\n",
    "            node = node.children[char]\n",
    "        node.is_end=True\n",
    "    \n",
    "    def search(self, word):\n",
    "        node = self.root\n",
    "        for char in word:\n",
    "            if char not in node.children:\n",
    "                return False\n",
    "            node = node.children[char]\n",
    "        return node.is_end\n",
    "    \n",
    "    def getall(self, word):\n",
    "        node = self.root\n",
    "        for char in word:\n",
    "            if char not in node.children:\n",
    "                return []\n",
    "            node = node.children[char]\n",
    "            return self.getprefix(node, word)\n",
    "    \n",
    "    def getprefix(self, node, word):\n",
    "        sugg=[]\n",
    "        if node.is_end:\n",
    "            sugg.append(char)\n",
    "        for char, child in node.children.items():\n",
    "            sugg.extend(self.getprefix(child, char+word))\n",
    "        return sugg\n",
    "\n",
    "tr = Trie()\n",
    "tr.insert(\"apple\")\n",
    "tr.insert(\"mango\")"
   ]
  },
  {
   "cell_type": "code",
   "execution_count": null,
   "metadata": {},
   "outputs": [],
   "source": [
    "class BST:\n",
    "    def __init__(self, key):\n",
    "        self.key = key\n",
    "        self.left = None\n",
    "        self.right = None\n",
    "    \n",
    "    def insert(self, data):\n",
    "        if self.key is None:\n",
    "            self.key = data\n",
    "        if self.key == data:\n",
    "            return \n",
    "        if self.key> data:\n",
    "            if self.left:\n",
    "                self.left.insert( data)\n",
    "            else:\n",
    "                self.left = BST(data)\n",
    "        else:\n",
    "            if self.right:\n",
    "                self.right.insert(data)\n",
    "            else:\n",
    "                self.right = BST(data)\n",
    "    \n",
    "    def inorder(self):\n",
    "        if self.left:\n",
    "            self.left.inorder()\n",
    "        print(self.key, end=\" \")\n",
    "        if self.right:\n",
    "            self.right.inorder()\n",
    "\n",
    "def ismaxnode(node):\n",
    "    if node is None:\n",
    "        return 0\n",
    "    \n",
    "    leftmax = ismaxnode(node.left)\n",
    "    rightmax = ismaxnode(node.right)\n",
    "\n",
    "    value=0\n",
    "    \n",
    "    if leftmax> value:\n",
    "        value= leftmax\n",
    "    else:\n",
    "        value = rightmax\n",
    "    \n",
    "    if node.key> value:\n",
    "        value = node.key\n",
    "    \n",
    "    return value\n",
    "\n",
    "def isminnode(node):\n",
    "    if node is None:\n",
    "        return 0\n",
    "    \n",
    "    leftmax = isminnode(node.left)\n",
    "    rightmax = isminnode(node.right)\n",
    "\n",
    "    value=0\n",
    "    \n",
    "    if leftmax< value:\n",
    "        value= leftmax\n",
    "    else:\n",
    "        value = rightmax\n",
    "    \n",
    "    if node.key< value:\n",
    "        value = node.key\n",
    "    \n",
    "    return value\n",
    "\n",
    "def isBST(node):\n",
    "    if node is None:\n",
    "        return True\n",
    "    if node.left is not None and ismaxnode(node.left)> node.key:\n",
    "        return False\n",
    "    if node.right is not None and isminnode(node.right)< node.key:\n",
    "        return False\n",
    "    if isBST(node.left) is False or isBST(node.right) is False:\n",
    "        return False\n",
    "    return True"
   ]
  },
  {
   "cell_type": "code",
   "execution_count": 11,
   "metadata": {},
   "outputs": [
    {
     "name": "stdout",
     "output_type": "stream",
     "text": [
      "False\n",
      "True\n"
     ]
    }
   ],
   "source": [
    "a=\"abcde\"\n",
    "b=\"acbdg\"\n",
    "\n",
    "if len(a)==len(b):\n",
    "    for i in a:\n",
    "        if i not in b:\n",
    "            print (False)\n",
    "        else:\n",
    "            if a.count(i) !=b.count(i):\n",
    "                break\n",
    "        \n",
    "    print (True)   \n",
    "else:\n",
    "    print(False)"
   ]
  },
  {
   "cell_type": "code",
   "execution_count": 18,
   "metadata": {},
   "outputs": [
    {
     "name": "stdout",
     "output_type": "stream",
     "text": [
      "321\n"
     ]
    }
   ],
   "source": [
    "a=123\n",
    "\n",
    "res=0\n",
    "while a>0:\n",
    "    n=a%10\n",
    "    res=res*10+n\n",
    "    a=a//10\n",
    "\n",
    "print(res)"
   ]
  }
 ],
 "metadata": {
  "kernelspec": {
   "display_name": "Python 3",
   "language": "python",
   "name": "python3"
  },
  "language_info": {
   "codemirror_mode": {
    "name": "ipython",
    "version": 3
   },
   "file_extension": ".py",
   "mimetype": "text/x-python",
   "name": "python",
   "nbconvert_exporter": "python",
   "pygments_lexer": "ipython3",
   "version": "3.12.1"
  }
 },
 "nbformat": 4,
 "nbformat_minor": 2
}
