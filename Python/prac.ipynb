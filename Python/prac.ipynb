{
 "cells": [
  {
   "cell_type": "code",
   "execution_count": 4,
   "metadata": {},
   "outputs": [
    {
     "name": "stdout",
     "output_type": "stream",
     "text": [
      "5\n"
     ]
    }
   ],
   "source": [
    "'''most repeated number'''\n",
    "\n",
    "def most(nums):\n",
    "    count={}\n",
    "    for i in nums:\n",
    "        count[i]=count.get(i,0)+1\n",
    "    max_count = max(count.values())\n",
    "    max_val = [key for key, val in count.items() if val == max_count]\n",
    "    return max(max_val)\n",
    "\n",
    "nums=[2,4,5,6,3,4,2,4,5,2,4,5,5]\n",
    "print(most(nums))"
   ]
  },
  {
   "cell_type": "code",
   "execution_count": 5,
   "metadata": {},
   "outputs": [
    {
     "data": {
      "text/plain": [
       "720"
      ]
     },
     "execution_count": 5,
     "metadata": {},
     "output_type": "execute_result"
    }
   ],
   "source": [
    "'''factorial'''\n",
    "\n",
    "def fact(n):\n",
    "    while n <=1:\n",
    "        return 1\n",
    "    return n*fact(n-1)\n",
    "\n",
    "fact(6)"
   ]
  },
  {
   "cell_type": "code",
   "execution_count": 14,
   "metadata": {},
   "outputs": [
    {
     "name": "stdout",
     "output_type": "stream",
     "text": [
      "2 3 5 7 11 13 17 19 23 29 31 37 41 43 47 53 59 61 67 71 73 79 83 89 97 "
     ]
    }
   ],
   "source": [
    "'''prime 1-100'''\n",
    "\n",
    "for i in range(2, 100):\n",
    "    for j in range(2, i):\n",
    "        if i%j==0:\n",
    "            break\n",
    "    else:\n",
    "        print(i, end=\" \")"
   ]
  },
  {
   "cell_type": "code",
   "execution_count": 19,
   "metadata": {},
   "outputs": [
    {
     "name": "stdout",
     "output_type": "stream",
     "text": [
      "{2: 'a', 3: 'f'}\n"
     ]
    }
   ],
   "source": [
    "'''interchange key and value in dict'''\n",
    "\n",
    "dict = {'a':2,'f':3}\n",
    "\n",
    "for key in list(dict):\n",
    "    val = dict.pop(key)\n",
    "    dict[val]=key\n",
    "print(dict)"
   ]
  },
  {
   "cell_type": "code",
   "execution_count": 32,
   "metadata": {},
   "outputs": [
    {
     "name": "stdout",
     "output_type": "stream",
     "text": [
      "['trumpan', 'Putin', 'modi', 'kim']\n"
     ]
    }
   ],
   "source": [
    "'''sort the list acc to len of wds'''\n",
    "\n",
    "def sort(people):\n",
    "    n = len(people)\n",
    "    for i in range(n):\n",
    "        for j in range(0, n-i-1):\n",
    "            if len(people[j]) < len(people[j+1]):\n",
    "                people[j], people[j+1] = people[j+1], people[j]\n",
    "    return people\n",
    "\n",
    "people = ['trumpan', 'modi', 'Putin', 'kim']\n",
    "print(sort(people))\n",
    "    "
   ]
  },
  {
   "cell_type": "code",
   "execution_count": 40,
   "metadata": {},
   "outputs": [
    {
     "name": "stdout",
     "output_type": "stream",
     "text": [
      "True\n"
     ]
    }
   ],
   "source": [
    "'''contails? sequentially?'''\n",
    "\n",
    "def sub(ele, sub):\n",
    "    ind=0\n",
    "    for char in sub:\n",
    "        ind = ele.find(char, ind)\n",
    "        if ind==-1:\n",
    "            return False\n",
    "        ind+=1\n",
    "    return True\n",
    "\n",
    "print(sub(\"hgdv\",\"\"))"
   ]
  },
  {
   "cell_type": "code",
   "execution_count": 47,
   "metadata": {},
   "outputs": [
    {
     "name": "stdout",
     "output_type": "stream",
     "text": [
      "5\n"
     ]
    }
   ],
   "source": [
    "'''get all the palindroms from the string'''\n",
    "\n",
    "def palin(str):\n",
    "    count=0\n",
    "    for i in range(len(str)+1):\n",
    "        for j in range(i+1, len(str)):\n",
    "            if str[j]==str[i] and str[i:j]==str[j:i:-1]:\n",
    "                count+=1\n",
    "    return count\n",
    "\n",
    "print(palin(\"avbvahekyuymnnjklk\"))    "
   ]
  },
  {
   "cell_type": "code",
   "execution_count": 51,
   "metadata": {},
   "outputs": [
    {
     "name": "stdout",
     "output_type": "stream",
     "text": [
      "321\n"
     ]
    }
   ],
   "source": [
    "'''reverse num'''\n",
    "\n",
    "def rev(num):\n",
    "    res=0\n",
    "    while num>0:\n",
    "        res=res*10+num%10\n",
    "        num=num//10\n",
    "    return res\n",
    "    \n",
    "print(rev(123))"
   ]
  },
  {
   "cell_type": "code",
   "execution_count": 63,
   "metadata": {},
   "outputs": [
    {
     "name": "stdout",
     "output_type": "stream",
     "text": [
      "True\n"
     ]
    }
   ],
   "source": [
    "'''anagram'''\n",
    "\n",
    "def anagram(d1, d2):\n",
    "    if len(d1) != len(d2):\n",
    "        return False\n",
    "    for i in d1:\n",
    "        if i not in d2:\n",
    "            return False\n",
    "    return True\n",
    "\n",
    "print(anagram(\"god\", \"dog\"))"
   ]
  },
  {
   "cell_type": "code",
   "execution_count": 76,
   "metadata": {},
   "outputs": [
    {
     "ename": "TypeError",
     "evalue": "isinstance() arg 2 must be a type, a tuple of types, or a union",
     "output_type": "error",
     "traceback": [
      "\u001b[1;31m---------------------------------------------------------------------------\u001b[0m",
      "\u001b[1;31mTypeError\u001b[0m                                 Traceback (most recent call last)",
      "Cell \u001b[1;32mIn[76], line 16\u001b[0m\n\u001b[0;32m     12\u001b[0m     \u001b[38;5;28;01mreturn\u001b[39;00m total\n\u001b[0;32m     14\u001b[0m d \u001b[38;5;241m=\u001b[39m {\u001b[38;5;124m\"\u001b[39m\u001b[38;5;124m3\u001b[39m\u001b[38;5;124m\"\u001b[39m: \u001b[38;5;241m5\u001b[39m, \u001b[38;5;124m\"\u001b[39m\u001b[38;5;124mb\u001b[39m\u001b[38;5;124m\"\u001b[39m: [\u001b[38;5;241m2\u001b[39m, \u001b[38;5;241m3\u001b[39m], \u001b[38;5;124m\"\u001b[39m\u001b[38;5;124mc\u001b[39m\u001b[38;5;124m\"\u001b[39m: {\u001b[38;5;124m\"\u001b[39m\u001b[38;5;124mD\u001b[39m\u001b[38;5;124m\"\u001b[39m: [\u001b[38;5;241m4\u001b[39m, \u001b[38;5;241m5\u001b[39m, \u001b[38;5;241m5\u001b[39m]}}\n\u001b[1;32m---> 16\u001b[0m \u001b[38;5;28mprint\u001b[39m(\u001b[43mcountnum\u001b[49m\u001b[43m(\u001b[49m\u001b[43md\u001b[49m\u001b[43m)\u001b[49m)\n",
      "Cell \u001b[1;32mIn[76], line 10\u001b[0m, in \u001b[0;36mcountnum\u001b[1;34m(d)\u001b[0m\n\u001b[0;32m      8\u001b[0m     \u001b[38;5;28;01melif\u001b[39;00m \u001b[38;5;28misinstance\u001b[39m(value, \u001b[38;5;28mlist\u001b[39m):\n\u001b[0;32m      9\u001b[0m         total \u001b[38;5;241m+\u001b[39m\u001b[38;5;241m=\u001b[39m \u001b[38;5;28msum\u001b[39m(value)  \n\u001b[1;32m---> 10\u001b[0m     \u001b[38;5;28;01melif\u001b[39;00m \u001b[38;5;28;43misinstance\u001b[39;49m\u001b[43m(\u001b[49m\u001b[43mvalue\u001b[49m\u001b[43m,\u001b[49m\u001b[43m \u001b[49m\u001b[38;5;28;43mdict\u001b[39;49m\u001b[43m)\u001b[49m:\n\u001b[0;32m     11\u001b[0m         total \u001b[38;5;241m+\u001b[39m\u001b[38;5;241m=\u001b[39m countnum(value) \n\u001b[0;32m     12\u001b[0m \u001b[38;5;28;01mreturn\u001b[39;00m total\n",
      "\u001b[1;31mTypeError\u001b[0m: isinstance() arg 2 must be a type, a tuple of types, or a union"
     ]
    }
   ],
   "source": [
    "'''sum of all numbers'''\n",
    "\n",
    "def countnum(d):\n",
    "    total = 0\n",
    "    for key, value in d.items():\n",
    "        if isinstance(value, int):\n",
    "            total += value\n",
    "        elif isinstance(value, list):\n",
    "            total += sum(value)  \n",
    "        elif isinstance(value, dict):\n",
    "            total += countnum(value) \n",
    "    return total\n",
    "\n",
    "d = {\"3\": 5, \"b\": [2, 3], \"c\": {\"D\": [4, 5, 5]}}\n",
    "\n",
    "print(countnum(d))\n"
   ]
  },
  {
   "cell_type": "code",
   "execution_count": 79,
   "metadata": {},
   "outputs": [
    {
     "name": "stdout",
     "output_type": "stream",
     "text": [
      "[1, 2, 3]\n"
     ]
    }
   ],
   "source": [
    "'''remove duplicates'''\n",
    "\n",
    "def rmdup(stt):\n",
    "    for i in stt:\n",
    "        while stt.count(i)>1:\n",
    "            stt.remove(i)\n",
    "    return stt\n",
    "\n",
    "print(rmdup([1,2,3,2,3]))"
   ]
  },
  {
   "cell_type": "code",
   "execution_count": 82,
   "metadata": {},
   "outputs": [
    {
     "name": "stdout",
     "output_type": "stream",
     "text": [
      "helo\n"
     ]
    }
   ],
   "source": [
    "'''rm dup str'''\n",
    "    \n",
    "s=\"helloo\"\n",
    "r=\"\"\n",
    "for i in s:\n",
    "    if i not in r:\n",
    "        r+=i\n",
    "print(r)"
   ]
  },
  {
   "cell_type": "code",
   "execution_count": 85,
   "metadata": {},
   "outputs": [
    {
     "name": "stdout",
     "output_type": "stream",
     "text": [
      "7 6 5 "
     ]
    }
   ],
   "source": [
    "'''sum of two list'''\n",
    "a=[1,2,3]\n",
    "b=[3,2,1]\n",
    "\n",
    "for i, j in zip(a,b):\n",
    "    print(i+j, end=\" \")"
   ]
  }
 ],
 "metadata": {
  "kernelspec": {
   "display_name": "Python 3",
   "language": "python",
   "name": "python3"
  },
  "language_info": {
   "codemirror_mode": {
    "name": "ipython",
    "version": 3
   },
   "file_extension": ".py",
   "mimetype": "text/x-python",
   "name": "python",
   "nbconvert_exporter": "python",
   "pygments_lexer": "ipython3",
   "version": "3.12.1"
  }
 },
 "nbformat": 4,
 "nbformat_minor": 2
}
