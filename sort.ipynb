{
 "cells": [
  {
   "cell_type": "code",
   "execution_count": 1,
   "metadata": {},
   "outputs": [
    {
     "name": "stdout",
     "output_type": "stream",
     "text": [
      "[1, 5, 6, 8, 9]\n"
     ]
    }
   ],
   "source": [
    "def bubble(list):\n",
    "    for i in range(len(list)-1):\n",
    "        for j in range(len(list)-1):\n",
    "            if list[j]>list[j+1]:\n",
    "                list[j],list[j+1]=list[j+1],list[j]\n",
    "    return list\n",
    "\n",
    "list=[8,5,6,1,9]\n",
    "a=bubble(list)\n",
    "print(a)"
   ]
  },
  {
   "cell_type": "code",
   "execution_count": 21,
   "metadata": {},
   "outputs": [
    {
     "name": "stdout",
     "output_type": "stream",
     "text": [
      "[0, 2, 4, 5, 8]\n"
     ]
    }
   ],
   "source": [
    "my_list = [5, 8, 0, 2, 4]\n",
    "\n",
    "for i in range(len(my_list)-1):\n",
    "    ind = i\n",
    "    for j in range(i + 1, len(my_list)):\n",
    "        if my_list[j] < my_list[ind]:\n",
    "            ind = j\n",
    "    my_list[i], my_list[ind] = my_list[ind], my_list[i]\n",
    "\n",
    "print(my_list)\n"
   ]
  },
  {
   "cell_type": "code",
   "execution_count": 23,
   "metadata": {},
   "outputs": [
    {
     "name": "stdout",
     "output_type": "stream",
     "text": [
      "[0, 2, 4, 5, 7, 8, 9]\n"
     ]
    }
   ],
   "source": [
    "list=[7,5,4,8,2,9,0]\n",
    "for i in range(1,len(list)):\n",
    "    j=i\n",
    "    while list[j-1]>list[j] and j>0:\n",
    "        list[j-1],list[j]=list[j],list[j-1]\n",
    "        j-=1\n",
    "print(list)"
   ]
  }
 ],
 "metadata": {
  "kernelspec": {
   "display_name": "Python 3",
   "language": "python",
   "name": "python3"
  },
  "language_info": {
   "codemirror_mode": {
    "name": "ipython",
    "version": 3
   },
   "file_extension": ".py",
   "mimetype": "text/x-python",
   "name": "python",
   "nbconvert_exporter": "python",
   "pygments_lexer": "ipython3",
   "version": "3.12.1"
  }
 },
 "nbformat": 4,
 "nbformat_minor": 2
}
