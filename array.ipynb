{
 "cells": [
  {
   "cell_type": "code",
   "execution_count": 1,
   "metadata": {},
   "outputs": [
    {
     "name": "stdout",
     "output_type": "stream",
     "text": [
      "[4, 5, 1, 2, 3]\n"
     ]
    }
   ],
   "source": [
    "def rotate(arr,r):\n",
    "    rotate_array=arr[-r:]+arr[:-r]\n",
    "    return rotate_array\n",
    "\n",
    "print(rotate([1,2,3,4,5], 2))"
   ]
  },
  {
   "cell_type": "code",
   "execution_count": 7,
   "metadata": {},
   "outputs": [
    {
     "name": "stdout",
     "output_type": "stream",
     "text": [
      "[3, 4, 1, 2]\n"
     ]
    }
   ],
   "source": [
    "def rotate(arr,r):\n",
    "    r=r%len(arr)\n",
    "    rotate_arr=arr[r:]+arr[:r]\n",
    "    return rotate_arr\n",
    "print(rotate([1,2,3,4],2))"
   ]
  },
  {
   "cell_type": "code",
   "execution_count": 9,
   "metadata": {},
   "outputs": [
    {
     "name": "stdout",
     "output_type": "stream",
     "text": [
      "3\n"
     ]
    }
   ],
   "source": [
    "def third(arr,x):\n",
    "    arr=sorted(arr,reverse=True)\n",
    "    return arr[x-1]\n",
    "print(third([6,8,3,9,2],4))"
   ]
  },
  {
   "cell_type": "code",
   "execution_count": 10,
   "metadata": {},
   "outputs": [
    {
     "name": "stdout",
     "output_type": "stream",
     "text": [
      "3\n"
     ]
    }
   ],
   "source": [
    "def count(strr,x):\n",
    "    c=strr.count(x)\n",
    "    return c\n",
    "print(count('helooo','o'))"
   ]
  },
  {
   "cell_type": "code",
   "execution_count": 13,
   "metadata": {},
   "outputs": [
    {
     "name": "stdout",
     "output_type": "stream",
     "text": [
      "Capitalized sentence: Python Is A Powerful Language\n"
     ]
    }
   ],
   "source": [
    "sentence = \"python is a powerful language\"\n",
    "capitalized_sentence = ' '.join(word.capitalize() for word in sentence.split())\n",
    "print(\"Capitalized sentence:\", capitalized_sentence)\n"
   ]
  },
  {
   "cell_type": "code",
   "execution_count": 16,
   "metadata": {},
   "outputs": [
    {
     "name": "stdout",
     "output_type": "stream",
     "text": [
      "String with duplicates removed: progamin\n"
     ]
    }
   ],
   "source": [
    "input_string = \"programming\"\n",
    "unique_chars = ''.join(sorted(set(input_string), key=input_string.index))\n",
    "print(\"String with duplicates removed:\", unique_chars)\n"
   ]
  },
  {
   "cell_type": "code",
   "execution_count": 19,
   "metadata": {},
   "outputs": [
    {
     "name": "stdout",
     "output_type": "stream",
     "text": [
      "agimnopr\n"
     ]
    }
   ],
   "source": [
    "input=\"programmingg\"\n",
    "s=sorted(set(input))\n",
    "print(''.join(s))"
   ]
  },
  {
   "cell_type": "code",
   "execution_count": 20,
   "metadata": {},
   "outputs": [
    {
     "name": "stdout",
     "output_type": "stream",
     "text": [
      "Starts with 'Hello'? True\n",
      "Ends with 'World!'? True\n"
     ]
    }
   ],
   "source": [
    "test_string = \"Hello, World!\"\n",
    "starts_with_hello = test_string.startswith(\"Hello\")\n",
    "ends_with_world = test_string.endswith(\"World!\")\n",
    "print(f\"Starts with 'Hello'? {starts_with_hello}\")\n",
    "print(f\"Ends with 'World!'? {ends_with_world}\")\n"
   ]
  }
 ],
 "metadata": {
  "kernelspec": {
   "display_name": "Python 3",
   "language": "python",
   "name": "python3"
  },
  "language_info": {
   "codemirror_mode": {
    "name": "ipython",
    "version": 3
   },
   "file_extension": ".py",
   "mimetype": "text/x-python",
   "name": "python",
   "nbconvert_exporter": "python",
   "pygments_lexer": "ipython3",
   "version": "3.12.1"
  }
 },
 "nbformat": 4,
 "nbformat_minor": 2
}
