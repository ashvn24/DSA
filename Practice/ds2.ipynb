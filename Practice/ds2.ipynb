{
 "cells": [
  {
   "cell_type": "code",
   "execution_count": 1,
   "metadata": {},
   "outputs": [
    {
     "name": "stdout",
     "output_type": "stream",
     "text": [
      "[1, 2, 3, 4]\n"
     ]
    }
   ],
   "source": [
    "'''bubble sort'''\n",
    "\n",
    "def bubble(arr):\n",
    "    for i in range(len(arr)):\n",
    "        for j in range(0,len(arr)-i-1):\n",
    "            if arr[j]>arr[j+1]:\n",
    "                arr[j+1], arr[j]=arr[j], arr[j+1]\n",
    "    return arr\n",
    "\n",
    "print(bubble([4,3,2,1]))"
   ]
  },
  {
   "cell_type": "code",
   "execution_count": 3,
   "metadata": {},
   "outputs": [
    {
     "name": "stdout",
     "output_type": "stream",
     "text": [
      "[1, 2, 3, 4]\n"
     ]
    }
   ],
   "source": [
    "'''Insertion'''\n",
    "\n",
    "def insertion(arr):\n",
    "    for i in range(1, len(arr)):\n",
    "        j=i\n",
    "        while arr[j-1]>arr[j] and j>0:\n",
    "            arr[j-1], arr[j] = arr[j], arr[j-1]\n",
    "            j-=1\n",
    "    return arr\n",
    "\n",
    "print(insertion([4,3,2,1]))"
   ]
  },
  {
   "cell_type": "code",
   "execution_count": 4,
   "metadata": {},
   "outputs": [
    {
     "name": "stdout",
     "output_type": "stream",
     "text": [
      "[1, 2, 3, 4]\n"
     ]
    }
   ],
   "source": [
    "'''selection'''\n",
    "\n",
    "def selection(arr):\n",
    "    for i in range(len(arr)):\n",
    "        min=i\n",
    "        for j in range(i+1, len(arr)):\n",
    "            if arr[j]< arr[min]:\n",
    "                min=j\n",
    "            arr[i], arr[min] = arr[min], arr[i]\n",
    "            \n",
    "    return arr\n",
    "\n",
    "print(selection([4,3,2,1]))"
   ]
  },
  {
   "cell_type": "code",
   "execution_count": 7,
   "metadata": {},
   "outputs": [
    {
     "name": "stdout",
     "output_type": "stream",
     "text": [
      "[1, 2, 3, 4]\n",
      "[1, 2, 3, 4]\n",
      "[1, 2, 3, 4]\n"
     ]
    }
   ],
   "source": [
    "\n",
    "arr=[4,3,2,1]\n",
    "for i in range(len(arr)):\n",
    "    for j in range(0, len(arr)-i-1):\n",
    "        if arr[j]> arr[j+1]:\n",
    "            arr[j],arr[j+1] = arr[j+1],arr[j]\n",
    "print(arr)\n",
    "\n",
    "for i in range(1,len(arr)):\n",
    "    j=i\n",
    "    while arr[j-1]>arr[j] and arr[j]>0:\n",
    "        arr[j-1], arr[j] = arr[j], arr[j-1]\n",
    "        j-=1\n",
    "print(arr)\n",
    "\n",
    "for i in range(len(arr)):\n",
    "    min= i\n",
    "    for j in range(i+1, len(arr)):\n",
    "        if arr[j]<arr[min]:\n",
    "            min=j\n",
    "        arr[i], arr[min] = arr[min], arr[i]\n",
    "print(arr)"
   ]
  },
  {
   "cell_type": "code",
   "execution_count": 13,
   "metadata": {},
   "outputs": [
    {
     "name": "stdout",
     "output_type": "stream",
     "text": [
      "[1, 2, 3, 4]\n"
     ]
    }
   ],
   "source": [
    "\n",
    "def pivot(arr, low, high):\n",
    "    piv=arr[low]\n",
    "    left=low+1\n",
    "    right=high\n",
    "    \n",
    "    while True:\n",
    "        while left<=right and arr[left]<=piv:\n",
    "            left+=1\n",
    "        while left<=right and arr[right]>=piv:\n",
    "            right-=1\n",
    "        if left<=right:\n",
    "            arr[left], arr[right]=arr[left], arr[right]\n",
    "        else:\n",
    "            break\n",
    "    arr[low], arr[right]= arr[right], arr[low]\n",
    "    return right\n",
    "\n",
    "def quick(arr, low, high):\n",
    "    if low<=high:\n",
    "        pivin = pivot(arr, low, high)\n",
    "        quick(arr, low, pivin-1)\n",
    "        quick(arr, pivin+1, high)\n",
    "        \n",
    "arr=[4,3,2,1]\n",
    "\n",
    "quick(arr, 0, len(arr)-1)\n",
    "print(arr)"
   ]
  }
 ],
 "metadata": {
  "kernelspec": {
   "display_name": "Python 3",
   "language": "python",
   "name": "python3"
  },
  "language_info": {
   "codemirror_mode": {
    "name": "ipython",
    "version": 3
   },
   "file_extension": ".py",
   "mimetype": "text/x-python",
   "name": "python",
   "nbconvert_exporter": "python",
   "pygments_lexer": "ipython3",
   "version": "3.12.1"
  }
 },
 "nbformat": 4,
 "nbformat_minor": 2
}
