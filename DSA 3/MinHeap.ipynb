{
 "cells": [
  {
   "cell_type": "code",
   "execution_count": null,
   "metadata": {},
   "outputs": [],
   "source": [
    "class minheap:\n",
    "    def __init__(self):\n",
    "        self.heap =[]\n",
    "    def parent(self,i):\n",
    "        return i-1//2\n",
    "    def lchild(self, i):\n",
    "        return (2*i)+1\n",
    "    def rchild(self, i):\n",
    "        return (2*i)+2\n",
    "    \n",
    "    def insert(self, data):\n",
    "        self.heap.append(data)\n",
    "        self.heapify_up(len(self.heap)-1)\n",
    "    \n",
    "    def heapify_up(self, i):\n",
    "        while i> 0 and self.heap[i]<self.heap[self.parent(i)]:\n",
    "            self.heap[0], self.heap[self.parent(i)] = self.heap[self.parent(i)], self.heap[0]\n",
    "            i = self.parent(i)\n",
    "            \n",
    "    def deleteMIn(self):\n",
    "        if len(self.heap) == 1:\n",
    "            return self.heap.pop()\n",
    "        else:\n",
    "            min = self.heap[0]\n",
    "            self.heap[0] = self.heap.pop()\n",
    "            self.heapify_down(0)\n",
    "            return min\n",
    "    def heapify_down(self, i):\n",
    "        small = i\n",
    "        left = self.lchild(i)\n",
    "        right = self.rchild(i)\n",
    "        \n",
    "        if left< len(self.heap) and self.heap[left]<self.heap[small]:\n",
    "            small = left\n",
    "        if right <len(self.heap) and self.heap[right]< self.heap[small]:\n",
    "            small = right\n",
    "        if small!=i:\n",
    "            self.heap[i], self.heap[small] = self.heap[small], self.heap[i]\n",
    "            self.heapify_down(small)"
   ]
  },
  {
   "cell_type": "code",
   "execution_count": null,
   "metadata": {},
   "outputs": [],
   "source": []
  }
 ],
 "metadata": {
  "language_info": {
   "name": "python"
  }
 },
 "nbformat": 4,
 "nbformat_minor": 2
}
