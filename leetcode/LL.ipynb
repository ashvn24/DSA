{
 "cells": [
  {
   "cell_type": "code",
   "execution_count": 1,
   "metadata": {},
   "outputs": [
    {
     "ename": "SyntaxError",
     "evalue": "expected '(' (3690576527.py, line 8)",
     "output_type": "error",
     "traceback": [
      "\u001b[1;36m  Cell \u001b[1;32mIn[1], line 8\u001b[1;36m\u001b[0m\n\u001b[1;33m    def merge\u001b[0m\n\u001b[1;37m                 ^\u001b[0m\n\u001b[1;31mSyntaxError\u001b[0m\u001b[1;31m:\u001b[0m expected '('\n"
     ]
    }
   ],
   "source": [
    "'''merge and sort 2 ll : Q21'''\n",
    "\n",
    "class LL:\n",
    "    def __init__(self,val=0,next=None):\n",
    "        self.val= val\n",
    "        self.next = next\n",
    "\n",
    "    def merge(lis1,lis2):\n",
    "        node=LL()\n",
    "        current=node\n",
    "        while lis1 and lis2:\n",
    "            if lis1.val<lis2.val:\n",
    "                current.next=lis1\n",
    "                lis1=lis1.next\n",
    "            else:\n",
    "                current.next = lis2\n",
    "                lis2=lis2.next\n",
    "            current=current.next\n",
    "\n",
    "        if lis1:\n",
    "            current.next=lis1\n",
    "        if lis2:\n",
    "            current.next=lis2\n",
    "        \n",
    "        return node.next"
   ]
  },
  {
   "cell_type": "code",
   "execution_count": null,
   "metadata": {},
   "outputs": [],
   "source": []
  }
 ],
 "metadata": {
  "kernelspec": {
   "display_name": "Python 3",
   "language": "python",
   "name": "python3"
  },
  "language_info": {
   "codemirror_mode": {
    "name": "ipython",
    "version": 3
   },
   "file_extension": ".py",
   "mimetype": "text/x-python",
   "name": "python",
   "nbconvert_exporter": "python",
   "pygments_lexer": "ipython3",
   "version": "3.12.4"
  }
 },
 "nbformat": 4,
 "nbformat_minor": 2
}
