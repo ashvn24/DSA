{
 "cells": [
  {
   "cell_type": "code",
   "execution_count": 9,
   "metadata": {},
   "outputs": [
    {
     "name": "stdout",
     "output_type": "stream",
     "text": [
      "3\n",
      "0\n"
     ]
    }
   ],
   "source": [
    "def no_of_occurence(haystack, needle):\n",
    "    for i in range(len(haystack)-len(needle)+1):\n",
    "        if haystack[i:i+len(needle)] == needle:\n",
    "            return i\n",
    "    return -1\n",
    "\n",
    "\n",
    "\n",
    "print(no_of_occurence(\"sadbutsad\",\"sad\"))"
   ]
  },
  {
   "cell_type": "code",
   "execution_count": 12,
   "metadata": {},
   "outputs": [
    {
     "name": "stdout",
     "output_type": "stream",
     "text": [
      "2\n"
     ]
    }
   ],
   "source": [
    "def majority(list):\n",
    "    count={}\n",
    "    for i in list:\n",
    "        count[i]=count.get(i,0)+1\n",
    "    for key, val in count.items():\n",
    "        if val == max(count.values()):\n",
    "            return key\n",
    "\n",
    "print(majority([6,4,2,4,7,8,8,6,2,2]))"
   ]
  },
  {
   "cell_type": "code",
   "execution_count": 45,
   "metadata": {},
   "outputs": [
    {
     "name": "stdout",
     "output_type": "stream",
     "text": [
      "1\n",
      "1\n",
      "27\n"
     ]
    }
   ],
   "source": [
    "def excel(char):\n",
    "    result=0\n",
    "    for i in char:\n",
    "        ascii = ord(i)\n",
    "        count=1\n",
    "        for i in range(65,97):\n",
    "            if ascii == i:\n",
    "                break\n",
    "            count +=1\n",
    "        print(count)\n",
    "        result = result* 26 + count\n",
    "    return result\n",
    "\n",
    "print(excel(\"AA\"))"
   ]
  },
  {
   "cell_type": "code",
   "execution_count": 47,
   "metadata": {},
   "outputs": [
    {
     "name": "stdout",
     "output_type": "stream",
     "text": [
      "True\n"
     ]
    }
   ],
   "source": [
    "def duplicate(arr):\n",
    "    count={}\n",
    "    for i in arr:\n",
    "        count[i]=count.get(i,0)+1\n",
    "    return max(count.values())>1\n",
    "        \n",
    "print(duplicate([1,2,2,3]))"
   ]
  },
  {
   "cell_type": "code",
   "execution_count": 50,
   "metadata": {},
   "outputs": [
    {
     "name": "stdout",
     "output_type": "stream",
     "text": [
      "True\n"
     ]
    }
   ],
   "source": [
    "def duplicate(arr):\n",
    "    return len(arr)!=len(set(arr))\n",
    "\n",
    "print(duplicate([1,2,3,1]))"
   ]
  },
  {
   "cell_type": "code",
   "execution_count": 5,
   "metadata": {},
   "outputs": [
    {
     "name": "stdout",
     "output_type": "stream",
     "text": [
      "[1, 2, 3, 1, 3, 5]\n",
      "[1, 1, 2, 3, 3, 5]\n"
     ]
    }
   ],
   "source": [
    "lis1=[1,2,3]\n",
    "lis2=[1,3,5]\n",
    "\n",
    "def sor(lis1,lis2):\n",
    "   combined=[item for i in (lis1,lis2) for item in i]\n",
    "   print(combined)\n",
    "   return sorted(combined)\n",
    "\n",
    "print(sor(lis1,lis2))"
   ]
  },
  {
   "cell_type": "code",
   "execution_count": 8,
   "metadata": {},
   "outputs": [
    {
     "name": "stdout",
     "output_type": "stream",
     "text": [
      "[2, 2]\n"
     ]
    }
   ],
   "source": [
    "'''intersection of two list ,Q350'''\n",
    "\n",
    "list1=[1,2,2,1]\n",
    "list2=[2,2]\n",
    "\n",
    "def intersection(list1,list2):\n",
    "    list1.sort()\n",
    "    list2.sort()\n",
    "    \n",
    "    i,j=0,0\n",
    "    result=[]\n",
    "    \n",
    "    while i < len(list1) and j<len(list2):\n",
    "        if list1[i]==list2[j]:\n",
    "            result.append(list1[i])\n",
    "            i+=1\n",
    "            j+=1\n",
    "        elif list1[i]<list2[j]:\n",
    "            i+=1\n",
    "        else:\n",
    "            j+=1\n",
    "    return result\n",
    "            \n",
    "print(intersection(list1,list2))"
   ]
  },
  {
   "cell_type": "code",
   "execution_count": 10,
   "metadata": {},
   "outputs": [
    {
     "name": "stdout",
     "output_type": "stream",
     "text": [
      "2216\n"
     ]
    }
   ],
   "source": [
    "'''roman to str 13'''\n",
    "def romanToInt(s):\n",
    "        s=list(s)\n",
    "        res=0\n",
    "        for i in s:\n",
    "            if i =='I':\n",
    "                res+=1\n",
    "            elif i =='V':\n",
    "                res+=5\n",
    "            elif i =='X':\n",
    "                res+=10\n",
    "            elif i =='L':\n",
    "                res+=50\n",
    "            elif i =='C':\n",
    "                res+=100\n",
    "            elif i =='D':\n",
    "                res+=500\n",
    "            elif i =='M':\n",
    "                res+=1000\n",
    "        return res\n",
    "\n",
    "print(romanToInt('MCMXCIV'))"
   ]
  }
 ],
 "metadata": {
  "kernelspec": {
   "display_name": "Python 3",
   "language": "python",
   "name": "python3"
  },
  "language_info": {
   "codemirror_mode": {
    "name": "ipython",
    "version": 3
   },
   "file_extension": ".py",
   "mimetype": "text/x-python",
   "name": "python",
   "nbconvert_exporter": "python",
   "pygments_lexer": "ipython3",
   "version": "3.12.4"
  }
 },
 "nbformat": 4,
 "nbformat_minor": 2
}
