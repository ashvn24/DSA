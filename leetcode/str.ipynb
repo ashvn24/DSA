{
 "cells": [
  {
   "cell_type": "code",
   "execution_count": 9,
   "metadata": {},
   "outputs": [
    {
     "name": "stdout",
     "output_type": "stream",
     "text": [
      "3\n",
      "0\n"
     ]
    }
   ],
   "source": [
    "def no_of_occurence(haystack, needle):\n",
    "    for i in range(len(haystack)-len(needle)+1):\n",
    "        if haystack[i:i+len(needle)] == needle:\n",
    "            return i\n",
    "    return -1\n",
    "\n",
    "\n",
    "\n",
    "print(no_of_occurence(\"sadbutsad\",\"sad\"))"
   ]
  },
  {
   "cell_type": "code",
   "execution_count": 12,
   "metadata": {},
   "outputs": [
    {
     "name": "stdout",
     "output_type": "stream",
     "text": [
      "2\n"
     ]
    }
   ],
   "source": [
    "def majority(list):\n",
    "    count={}\n",
    "    for i in list:\n",
    "        count[i]=count.get(i,0)+1\n",
    "    for key, val in count.items():\n",
    "        if val == max(count.values()):\n",
    "            return key\n",
    "\n",
    "print(majority([6,4,2,4,7,8,8,6,2,2]))"
   ]
  },
  {
   "cell_type": "code",
   "execution_count": 45,
   "metadata": {},
   "outputs": [
    {
     "name": "stdout",
     "output_type": "stream",
     "text": [
      "1\n",
      "1\n",
      "27\n"
     ]
    }
   ],
   "source": [
    "def excel(char):\n",
    "    result=0\n",
    "    for i in char:\n",
    "        ascii = ord(i)\n",
    "        count=1\n",
    "        for i in range(65,97):\n",
    "            if ascii == i:\n",
    "                break\n",
    "            count +=1\n",
    "        print(count)\n",
    "        result = result* 26 + count\n",
    "    return result\n",
    "\n",
    "print(excel(\"AA\"))"
   ]
  },
  {
   "cell_type": "code",
   "execution_count": 47,
   "metadata": {},
   "outputs": [
    {
     "name": "stdout",
     "output_type": "stream",
     "text": [
      "True\n"
     ]
    }
   ],
   "source": [
    "def duplicate(arr):\n",
    "    count={}\n",
    "    for i in arr:\n",
    "        count[i]=count.get(i,0)+1\n",
    "    return max(count.values())>1\n",
    "        \n",
    "print(duplicate([1,2,2,3]))"
   ]
  },
  {
   "cell_type": "code",
   "execution_count": 50,
   "metadata": {},
   "outputs": [
    {
     "name": "stdout",
     "output_type": "stream",
     "text": [
      "True\n"
     ]
    }
   ],
   "source": [
    "def duplicate(arr):\n",
    "    return len(arr)!=len(set(arr))\n",
    "\n",
    "print(duplicate([1,2,3,1]))"
   ]
  }
 ],
 "metadata": {
  "kernelspec": {
   "display_name": "Python 3",
   "language": "python",
   "name": "python3"
  },
  "language_info": {
   "codemirror_mode": {
    "name": "ipython",
    "version": 3
   },
   "file_extension": ".py",
   "mimetype": "text/x-python",
   "name": "python",
   "nbconvert_exporter": "python",
   "pygments_lexer": "ipython3",
   "version": "3.12.1"
  }
 },
 "nbformat": 4,
 "nbformat_minor": 2
}
