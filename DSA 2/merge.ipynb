{
 "cells": [
  {
   "cell_type": "code",
   "execution_count": 9,
   "metadata": {},
   "outputs": [
    {
     "name": "stdout",
     "output_type": "stream",
     "text": [
      "[0, 2, 3, 5, 11, 12, 67, 76, 87, 89]\n"
     ]
    }
   ],
   "source": [
    "def merge_sort(arr):\n",
    "    if len(arr)<=1:\n",
    "        return arr\n",
    "    mid = len(arr)//2\n",
    "    lft = arr[:mid]\n",
    "    rgt = arr[mid:]\n",
    "    \n",
    "    lft = merge_sort(lft)\n",
    "    rgt = merge_sort(rgt)\n",
    "    \n",
    "    return merge(lft, rgt)\n",
    "\n",
    "def merge(lft, rgt):\n",
    "    m=[]\n",
    "    \n",
    "    i=j=0\n",
    "    while i<len(lft) and j<len(rgt):\n",
    "        if lft[i]<rgt[j]:\n",
    "            m.append(lft[i])\n",
    "            i+=1\n",
    "        else:\n",
    "            m.append(rgt[j])\n",
    "            j+=1\n",
    "    while i<len(lft):\n",
    "        m.append(lft[i])\n",
    "        i+=1\n",
    "    while j<len(rgt):\n",
    "        m.append(rgt[j])\n",
    "        j+=1\n",
    "    return m\n",
    "\n",
    "array = [12,89,67,0,76,11,3,2,5,87]\n",
    "\n",
    "\n",
    "print(merge_sort(array))\n",
    "    "
   ]
  },
  {
   "cell_type": "code",
   "execution_count": 2,
   "metadata": {},
   "outputs": [
    {
     "name": "stdout",
     "output_type": "stream",
     "text": [
      "[0, 2, 3, 5, 11, 12, 67, 76, 87, 89]\n"
     ]
    }
   ],
   "source": [
    "def mrgs(lis):\n",
    "    if len(lis)<=1:\n",
    "        return lis\n",
    "    mid = len(lis)//2\n",
    "    i = lis[:mid]\n",
    "    j = lis[mid:]\n",
    "    \n",
    "    i=mrgs(i)\n",
    "    j=mrgs(j)\n",
    "    \n",
    "    return merge(i,j)\n",
    "\n",
    "def merge(l,r):\n",
    "    m=[]\n",
    "    i=j=0\n",
    "    \n",
    "    while i<len(l) and j<len(r):\n",
    "        if l[i]<r[j]:\n",
    "            m.append(l[i])\n",
    "            i+=1\n",
    "        else:\n",
    "            m.append(r[j])\n",
    "            j+=1\n",
    "    while i<len(l):\n",
    "        m.append(l[i])\n",
    "        i+=1\n",
    "    while j<len(r):\n",
    "        m.append(r[j])\n",
    "        j+=1\n",
    "    return m\n",
    "\n",
    "array = [12,89,67,0,76,11,3,2,5,87]\n",
    "print(mrgs(array))\n",
    "    "
   ]
  },
  {
   "cell_type": "code",
   "execution_count": 5,
   "metadata": {},
   "outputs": [
    {
     "name": "stdout",
     "output_type": "stream",
     "text": [
      "[2, 2, 4, 5, 5, 7, 7, 9]\n"
     ]
    }
   ],
   "source": [
    "def mrg(lis):\n",
    "    if len(lis)<=1\n",
    "        return lis\n",
    "    \n",
    "    mid = len(lis)//2\n",
    "    l = lis[mid:]\n",
    "    r = lis[:mid]\n",
    "    \n",
    "    l = mrg(l)\n",
    "    r = mrg(r)\n",
    "    \n",
    "    return merge(l, r)\n",
    "\n",
    "def merge(l, r):\n",
    "    m=[]\n",
    "    i=j=0\n",
    "    \n",
    "    while i<len(l) and j<len(r):\n",
    "        if l[i]<r[j]:\n",
    "            m.append(l[i])\n",
    "            i+=1\n",
    "        else:\n",
    "            m.append(r[j])\n",
    "            j+=1\n",
    "    while i<len(l):\n",
    "        m.append(l[i])\n",
    "        i+=1\n",
    "    while j< len(r):\n",
    "        m.append(r[j])\n",
    "        j+=1\n",
    "    return m\n",
    "\n",
    "lis = [4,2,7,9,5,2,5,7]\n",
    "\n",
    "print(mrg(lis))"
   ]
  },
  {
   "cell_type": "code",
   "execution_count": 8,
   "metadata": {},
   "outputs": [
    {
     "name": "stdout",
     "output_type": "stream",
     "text": [
      "[3, 7, 8, 3, 6, 8]\n"
     ]
    }
   ],
   "source": [
    "def merg(lis):\n",
    "    if len(lis)<=1:\n",
    "        return lis\n",
    "    \n",
    "    mid = len(lis)//2\n",
    "    \n",
    "    left = lis[:mid]\n",
    "    right = lis[mid:]\n",
    "    \n",
    "    left = merg(left)\n",
    "    right= merg(right)\n",
    "    \n",
    "    return merge(left, right)\n",
    "\n",
    "def merge(left, right):\n",
    "    m=[]\n",
    "    i=j=0\n",
    "    \n",
    "    while i<len(left) and j<len(right):\n",
    "        if left[i]<right[j]:\n",
    "            m.append(left[i])\n",
    "            i+=1\n",
    "        else:\n",
    "            m.append(right[j])\n",
    "            i+=1\n",
    "        while i<len(left):\n",
    "            m.append(left[i])\n",
    "            i+=1\n",
    "        while j<len(right):\n",
    "            m.append(right[j])\n",
    "            j+=1\n",
    "        return m\n",
    "lis=[5,7,8,3,6,8]\n",
    "print(merg(lis))"
   ]
  },
  {
   "cell_type": "code",
   "execution_count": null,
   "metadata": {},
   "outputs": [],
   "source": []
  }
 ],
 "metadata": {
  "kernelspec": {
   "display_name": "Python 3",
   "language": "python",
   "name": "python3"
  },
  "language_info": {
   "codemirror_mode": {
    "name": "ipython",
    "version": 3
   },
   "file_extension": ".py",
   "mimetype": "text/x-python",
   "name": "python",
   "nbconvert_exporter": "python",
   "pygments_lexer": "ipython3",
   "version": "3.12.1"
  }
 },
 "nbformat": 4,
 "nbformat_minor": 2
}
