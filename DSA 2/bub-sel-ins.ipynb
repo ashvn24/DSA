{
 "cells": [
  {
   "cell_type": "code",
   "execution_count": 1,
   "metadata": {},
   "outputs": [
    {
     "name": "stdout",
     "output_type": "stream",
     "text": [
      "[4, 4, 6, 7, 8, 9, 24]\n"
     ]
    }
   ],
   "source": [
    "def bubble(arr):\n",
    "    for i in range(len(arr)):\n",
    "        for j in range(len(arr)-i-1):\n",
    "            if arr[j]> arr[j+1]:\n",
    "                arr[j], arr[j+1] = arr[j+1], arr[j]\n",
    "    return arr\n",
    "\n",
    "print(bubble([4,7,9,4,24,6,8]))"
   ]
  },
  {
   "cell_type": "code",
   "execution_count": 6,
   "metadata": {},
   "outputs": [
    {
     "name": "stdout",
     "output_type": "stream",
     "text": [
      "[3, 4, 5, 6, 7, 9]\n"
     ]
    }
   ],
   "source": [
    "def insertion(arr):\n",
    "    for i in range(1, len(arr)):\n",
    "        j=i\n",
    "        while arr[j-1]> arr[j] and j>0:\n",
    "            arr[j-1], arr[j] = arr[j], arr[j-1]\n",
    "            j-=1\n",
    "    return arr\n",
    "\n",
    "print(insertion([6,3,7,9,4,5]))"
   ]
  },
  {
   "cell_type": "code",
   "execution_count": 7,
   "metadata": {},
   "outputs": [
    {
     "name": "stdout",
     "output_type": "stream",
     "text": [
      "[2, 3, 4, 5, 6, 9]\n"
     ]
    }
   ],
   "source": [
    "def bubble(arr):\n",
    "    for i in range(len(arr)):\n",
    "        for j in range(0, len(arr)-i-1):\n",
    "            if arr[j]> arr[j+1]:\n",
    "                arr[j], arr[j+1] = arr[j+1], arr[j]\n",
    "    return arr\n",
    "\n",
    "print(bubble([6,5,4,3,2,9]))"
   ]
  },
  {
   "cell_type": "code",
   "execution_count": 8,
   "metadata": {},
   "outputs": [
    {
     "name": "stdout",
     "output_type": "stream",
     "text": [
      "[2, 2, 2, 3, 4, 5]\n"
     ]
    }
   ],
   "source": [
    "def insertion(arr):\n",
    "    for i in range(1, len(arr)):\n",
    "        j=i\n",
    "        while arr[j-1]>arr[j] and j>0:\n",
    "            arr[j-1], arr[j] = arr[j] , arr[j-1]\n",
    "            j-=1\n",
    "            \n",
    "    return arr\n",
    "print(insertion([5,4,3,2,2,2]))"
   ]
  },
  {
   "cell_type": "code",
   "execution_count": 9,
   "metadata": {},
   "outputs": [
    {
     "name": "stdout",
     "output_type": "stream",
     "text": [
      "[2, 4, 4, 5, 5, 5, 7, 8, 8, 9, 84]\n"
     ]
    }
   ],
   "source": [
    "def selection(arr):\n",
    "    for i in range(len(arr)):\n",
    "        min =i\n",
    "        for j in range(i+1, len(arr)):\n",
    "            if arr[j]<arr[min]:\n",
    "                min=j\n",
    "        arr[i], arr[min]=arr[min], arr[i]\n",
    "        \n",
    "    return arr\n",
    "print(selection([5,7,5,2,8,9,4,5,8,4,84]))"
   ]
  },
  {
   "cell_type": "code",
   "execution_count": 14,
   "metadata": {},
   "outputs": [
    {
     "name": "stdout",
     "output_type": "stream",
     "text": [
      "[2, 2, 3, 4, 6]\n"
     ]
    }
   ],
   "source": [
    "def bub(arr): \n",
    "    for i in range(len(arr)):\n",
    "        for j in range(0, len(arr)-i-1):\n",
    "            if arr[j]>arr[j+1]:\n",
    "                arr[j], arr[j+1] = arr[j+1], arr[j]\n",
    "                \n",
    "    return arr\n",
    "\n",
    "def insertion(arr):\n",
    "    for i in range(1, len(arr)):\n",
    "        j=i\n",
    "        while arr[j-1]> arr[j] and j>0:\n",
    "            arr[j-1], arr[j]= arr[j] , arr[j-1]\n",
    "            j-=1\n",
    "    return arr\n",
    "\n",
    "def selec(arr):\n",
    "    for i in range(len(arr)):\n",
    "        min =i\n",
    "        for j in range(i+1, len(arr)):\n",
    "            if arr[j]<arr[min]:\n",
    "                min=j\n",
    "            arr[i], arr[min] = arr[min], arr[i]\n",
    "            \n",
    "    return arr\n",
    "li=[6,4,3,2,2]\n",
    "print(selec(li))"
   ]
  }
 ],
 "metadata": {
  "kernelspec": {
   "display_name": "Python 3",
   "language": "python",
   "name": "python3"
  },
  "language_info": {
   "codemirror_mode": {
    "name": "ipython",
    "version": 3
   },
   "file_extension": ".py",
   "mimetype": "text/x-python",
   "name": "python",
   "nbconvert_exporter": "python",
   "pygments_lexer": "ipython3",
   "version": "3.12.1"
  }
 },
 "nbformat": 4,
 "nbformat_minor": 2
}
