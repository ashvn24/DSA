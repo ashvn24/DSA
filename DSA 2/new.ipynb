{
 "cells": [
  {
   "cell_type": "code",
   "execution_count": 1,
   "metadata": {},
   "outputs": [],
   "source": [
    "def Dfs( start, vertex):\n",
    "    if start not in node:\n",
    "        print(\"not av\")\n",
    "        return\n",
    "    visited[node.index(start)]= True\n",
    "    print(start, end=\" \")\n",
    "    for i in range(node_count):\n",
    "        if graph[node.index(start)]==1 and not visited[i]:\n",
    "            Dfs(node[i], visited)\n",
    "        \n",
    "def add_node(v):\n",
    "    global node_count\n",
    "    if v in node:\n",
    "        print(\"exist\")\n",
    "        return\n",
    "    else:\n",
    "        node_count+=1\n",
    "        node.append(v)\n",
    "    for row in graph:\n",
    "        row.append(0)\n",
    "    tmp=[]\n",
    "    for i in range(node_count):\n",
    "        tmp.append(0)\n",
    "    graph.append(tmp)\n",
    "    \n",
    "def add_edge(v1,v2):\n",
    "    if v1 not in node:\n",
    "        print(\"not\")\n",
    "        return\n",
    "    elif v2 not in node:\n",
    "        print(\"not\")\n",
    "        return\n",
    "    else:\n",
    "        x= node.index(v1)\n",
    "        y= node.index(v2)\n",
    "        \n",
    "        graph[x][y]=1\n",
    "        graph[y][x]=1\n",
    "\n",
    "\n",
    "\n",
    "        \n",
    "visited=[]   \n",
    "node=[]\n",
    "graph=[]\n",
    "node_count=0\n",
    "add_node(\"3\")\n",
    "add_node(\"5\")\n",
    "add_edge(\"3\", \"5\")\n"
   ]
  },
  {
   "cell_type": "code",
   "execution_count": 9,
   "metadata": {},
   "outputs": [
    {
     "name": "stdout",
     "output_type": "stream",
     "text": [
      "10\n"
     ]
    },
    {
     "ename": "TypeError",
     "evalue": "BST.search() missing 1 required positional argument: 'data'",
     "output_type": "error",
     "traceback": [
      "\u001b[1;31m---------------------------------------------------------------------------\u001b[0m",
      "\u001b[1;31mTypeError\u001b[0m                                 Traceback (most recent call last)",
      "Cell \u001b[1;32mIn[9], line 41\u001b[0m\n\u001b[0;32m     39\u001b[0m bst\u001b[38;5;241m.\u001b[39minsert(\u001b[38;5;241m23\u001b[39m)\n\u001b[0;32m     40\u001b[0m bst\u001b[38;5;241m.\u001b[39minsert(\u001b[38;5;241m56\u001b[39m)\n\u001b[1;32m---> 41\u001b[0m \u001b[43mbst\u001b[49m\u001b[38;5;241;43m.\u001b[39;49m\u001b[43msearch\u001b[49m\u001b[43m(\u001b[49m\u001b[38;5;241;43m10\u001b[39;49m\u001b[43m)\u001b[49m\n",
      "Cell \u001b[1;32mIn[9], line 32\u001b[0m, in \u001b[0;36mBST.search\u001b[1;34m(self, data)\u001b[0m\n\u001b[0;32m     30\u001b[0m     \u001b[38;5;28mprint\u001b[39m(\u001b[38;5;28mself\u001b[39m\u001b[38;5;241m.\u001b[39mkey)\n\u001b[0;32m     31\u001b[0m \u001b[38;5;28;01mif\u001b[39;00m \u001b[38;5;28mself\u001b[39m\u001b[38;5;241m.\u001b[39mright:\n\u001b[1;32m---> 32\u001b[0m     \u001b[38;5;28;43mself\u001b[39;49m\u001b[38;5;241;43m.\u001b[39;49m\u001b[43mright\u001b[49m\u001b[38;5;241;43m.\u001b[39;49m\u001b[43msearch\u001b[49m\u001b[43m(\u001b[49m\u001b[43m)\u001b[49m\n",
      "\u001b[1;31mTypeError\u001b[0m: BST.search() missing 1 required positional argument: 'data'"
     ]
    }
   ],
   "source": [
    "class BST:\n",
    "    def __init__(self, key):\n",
    "        self.key= key\n",
    "        self.left= None\n",
    "        self.right=None\n",
    "    \n",
    "    def insert(self, data):\n",
    "        if self.key is None:\n",
    "            print(\"empty\")\n",
    "            return\n",
    "        if self.key == data:\n",
    "            return\n",
    "        if self.key> data:\n",
    "            if self.left:\n",
    "                self.left.insert(data)\n",
    "            else:\n",
    "                self.left = BST(data)\n",
    "        else:\n",
    "            if self.right:\n",
    "                self.right.insert(data)\n",
    "            else:\n",
    "                self.right = BST(data)\n",
    "                \n",
    "                \n",
    "                \n",
    "    def search(self, data):\n",
    "        if self.left:\n",
    "            self.left.search()\n",
    "        if self.key == data:\n",
    "            print(self.key)\n",
    "        if self.right:\n",
    "            self.right.search()\n",
    "    \n",
    "\n",
    "bst=BST(10)\n",
    "\n",
    "bst.insert(32)\n",
    "bst.insert(33)\n",
    "bst.insert(23)\n",
    "bst.insert(56)\n",
    "bst.search(10)\n",
    "        "
   ]
  },
  {
   "cell_type": "code",
   "execution_count": 25,
   "metadata": {},
   "outputs": [
    {
     "name": "stdout",
     "output_type": "stream",
     "text": [
      "19\n"
     ]
    }
   ],
   "source": [
    "strr=\"xyuomnonmxoxsshohss\"\n",
    "count=0\n",
    "res=\"\"\n",
    "for i in range(len(strr)):\n",
    "    for j in range(i,len(strr)):\n",
    "        if strr[i]==strr[j]:\n",
    "            if strr[i:j]==strr[j:i]:\n",
    "                count+=1\n",
    "print(count)\n",
    "    "
   ]
  },
  {
   "cell_type": "code",
   "execution_count": 57,
   "metadata": {},
   "outputs": [
    {
     "name": "stdout",
     "output_type": "stream",
     "text": [
      "6\n",
      "18\n"
     ]
    }
   ],
   "source": [
    "dic={'a':1,'b':[1,2,3],'c':{'d':[5,6,7]}}\n",
    "\n",
    "def addlist(value):\n",
    "    sum=0\n",
    "    for i in value:\n",
    "            sum+=i\n",
    "    print(sum) \n",
    "            \n",
    "keys = list(dic)\n",
    "for i in keys:\n",
    "    value= dic.pop(i)\n",
    "    if type(value)==list:\n",
    "        addlist(value)\n",
    "    elif type(value)==dict:\n",
    "        for key, val in value.items():\n",
    "            if type(val)==list:\n",
    "                addlist(val)\n",
    "    # else: \n",
    "    #     sum+=value\n",
    "\n",
    "   \n",
    "\n",
    "    \n"
   ]
  }
 ],
 "metadata": {
  "kernelspec": {
   "display_name": "Python 3",
   "language": "python",
   "name": "python3"
  },
  "language_info": {
   "codemirror_mode": {
    "name": "ipython",
    "version": 3
   },
   "file_extension": ".py",
   "mimetype": "text/x-python",
   "name": "python",
   "nbconvert_exporter": "python",
   "pygments_lexer": "ipython3",
   "version": "3.12.1"
  }
 },
 "nbformat": 4,
 "nbformat_minor": 2
}
