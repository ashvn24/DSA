{
 "cells": [
  {
   "cell_type": "code",
   "execution_count": 1,
   "metadata": {},
   "outputs": [],
   "source": [
    "def Dfs( start, vertex):\n",
    "    if start not in node:\n",
    "        print(\"not av\")\n",
    "        return\n",
    "    visited[node.index(start)]= True\n",
    "    print(start, end=\" \")\n",
    "    for i in range(node_count):\n",
    "        if graph[node.index(start)]==1 and not visited[i]:\n",
    "            Dfs(node[i], visited)\n",
    "        \n",
    "def add_node(v):\n",
    "    global node_count\n",
    "    if v in node:\n",
    "        print(\"exist\")\n",
    "        return\n",
    "    else:\n",
    "        node_count+=1\n",
    "        node.append(v)\n",
    "    for row in graph:\n",
    "        row.append(0)\n",
    "    tmp=[]\n",
    "    for i in range(node_count):\n",
    "        tmp.append(0)\n",
    "    graph.append(tmp)\n",
    "    \n",
    "def add_edge(v1,v2):\n",
    "    if v1 not in node:\n",
    "        print(\"not\")\n",
    "        return\n",
    "    elif v2 not in node:\n",
    "        print(\"not\")\n",
    "        return\n",
    "    else:\n",
    "        x= node.index(v1)\n",
    "        y= node.index(v2)\n",
    "        \n",
    "        graph[x][y]=1\n",
    "        graph[y][x]=1\n",
    "\n",
    "\n",
    "\n",
    "        \n",
    "visited=[]   \n",
    "node=[]\n",
    "graph=[]\n",
    "node_count=0\n",
    "add_node(\"3\")\n",
    "add_node(\"5\")\n",
    "add_edge(\"3\", \"5\")\n"
   ]
  },
  {
   "cell_type": "code",
   "execution_count": 27,
   "metadata": {},
   "outputs": [
    {
     "data": {
      "text/plain": [
       "False"
      ]
     },
     "execution_count": 27,
     "metadata": {},
     "output_type": "execute_result"
    }
   ],
   "source": [
    "class BST:\n",
    "    def __init__(self, key):\n",
    "        self.key= key\n",
    "        self.left= None\n",
    "        self.right=None\n",
    "    \n",
    "    def insert(self, data):\n",
    "        if self.key is None:\n",
    "            print(\"empty\")\n",
    "            return\n",
    "        if self.key == data:\n",
    "            return\n",
    "        if self.key> data:\n",
    "            if self.left:\n",
    "                self.left.insert(data)\n",
    "            else:\n",
    "                self.left = BST(data)\n",
    "        else:\n",
    "            if self.right:\n",
    "                self.right.insert(data)\n",
    "            else:\n",
    "                self.right = BST(data)\n",
    "                \n",
    "                \n",
    "                \n",
    "    def search(self, data):\n",
    "        if self.key == data:\n",
    "            return True\n",
    "        elif self.key> data and self.left:\n",
    "            return self.left.search(data)\n",
    "        elif self.key<data and self.right:\n",
    "            return self.right.search(data)\n",
    "        return False\n",
    "\n",
    "bst=BST(10)\n",
    "\n",
    "bst.insert(32)\n",
    "bst.insert(33)\n",
    "bst.insert(23)\n",
    "bst.insert(56)\n",
    "bst.search(2)\n",
    "        "
   ]
  },
  {
   "cell_type": "code",
   "execution_count": 29,
   "metadata": {},
   "outputs": [
    {
     "name": "stdout",
     "output_type": "stream",
     "text": [
      "8\n"
     ]
    }
   ],
   "source": [
    "def count_palindromes(strr):\n",
    "    count = 0\n",
    "    n = len(strr)\n",
    "    # Check all substrings\n",
    "    for i in range(n):\n",
    "        for j in range(i+1, n):\n",
    "            substring = strr[i:j+1]\n",
    "            # Check if the substring is a palindrome\n",
    "            if substring == substring[::-1]:\n",
    "                count += 1\n",
    "    return count\n",
    "\n",
    "# Test the function with your string\n",
    "strr = \"xyuomnonmxoxsshohss\"\n",
    "print(count_palindromes(strr))\n"
   ]
  },
  {
   "cell_type": "code",
   "execution_count": 14,
   "metadata": {},
   "outputs": [
    {
     "name": "stdout",
     "output_type": "stream",
     "text": [
      "25\n"
     ]
    }
   ],
   "source": [
    "def instance(dic):\n",
    "    sums=0\n",
    "    for value in dic.values():\n",
    "        if isinstance(value, int):\n",
    "            sums+=value\n",
    "        elif isinstance(value, list):\n",
    "            sums+= sum(value)\n",
    "        elif isinstance(value, dict):\n",
    "            sums+= instance(value)\n",
    "    return sums\n",
    "\n",
    "dic={'a':1,'b':[1,2,3],'c':{'d':[5,6,7]}}\n",
    "print(instance(dic))"
   ]
  }
 ],
 "metadata": {
  "kernelspec": {
   "display_name": "Python 3",
   "language": "python",
   "name": "python3"
  },
  "language_info": {
   "codemirror_mode": {
    "name": "ipython",
    "version": 3
   },
   "file_extension": ".py",
   "mimetype": "text/x-python",
   "name": "python",
   "nbconvert_exporter": "python",
   "pygments_lexer": "ipython3",
   "version": "3.12.1"
  }
 },
 "nbformat": 4,
 "nbformat_minor": 2
}
