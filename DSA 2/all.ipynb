{
 "cells": [
  {
   "cell_type": "code",
   "execution_count": 2,
   "metadata": {},
   "outputs": [
    {
     "name": "stdout",
     "output_type": "stream",
     "text": [
      "[3, 4, 5, 6, 7, 8, 8]\n"
     ]
    }
   ],
   "source": [
    "def bubble(arr):\n",
    "    for i in range(len(arr)):\n",
    "        for j in range(0, len(arr)-i-1):\n",
    "            if arr[j]>arr[j+1]:\n",
    "                arr[j],arr[j+1] = arr[j+1], arr[j]\n",
    "    return arr\n",
    "print(bubble([8,4,6,7,8,3,5]))"
   ]
  },
  {
   "cell_type": "code",
   "execution_count": 4,
   "metadata": {},
   "outputs": [
    {
     "name": "stdout",
     "output_type": "stream",
     "text": [
      "[2, 3, 4, 6, 7, 7, 9]\n"
     ]
    }
   ],
   "source": [
    "def insertion(arr):\n",
    "    for i in range(1, len(arr)):\n",
    "        j=i\n",
    "        while arr[j-1]> arr[j] and j>0:\n",
    "            arr[j-1], arr[j] = arr[j], arr[j-1]\n",
    "            j-=1\n",
    "    return arr\n",
    "\n",
    "print(insertion([6,3,7,9,2,4,7]))"
   ]
  },
  {
   "cell_type": "code",
   "execution_count": 7,
   "metadata": {},
   "outputs": [
    {
     "name": "stdout",
     "output_type": "stream",
     "text": [
      "[3, 6, 8, 34, 54, 6, 78]\n"
     ]
    }
   ],
   "source": [
    "def selection(arr):\n",
    "    for i in range(len(arr)):\n",
    "        min=i\n",
    "        for j in range(i+1, len(arr)):\n",
    "            if  arr[j]< arr[min]:\n",
    "                min=j\n",
    "            arr[i], arr[min] = arr[min], arr[i]\n",
    "    return arr\n",
    "print(selection([6,34,8,54,3,6,78,]))"
   ]
  },
  {
   "cell_type": "code",
   "execution_count": 10,
   "metadata": {},
   "outputs": [
    {
     "name": "stdout",
     "output_type": "stream",
     "text": [
      "[2, 3, 4, 5, 6, 6, 8, 67]\n"
     ]
    }
   ],
   "source": [
    "def pivot(arr, low, high):\n",
    "    p = arr[low]\n",
    "    i = low+1\n",
    "    j= high\n",
    "    \n",
    "    while True:\n",
    "        while i<=j and arr[i]<=p:\n",
    "            i+=1\n",
    "        while i<=j and arr[j]>=p:\n",
    "            j-=1\n",
    "        if i<=j:\n",
    "            arr[i], arr[j] = arr[j], arr[i]\n",
    "        else:\n",
    "            break\n",
    "    arr[j], arr[low] = arr[low], arr[j]\n",
    "    return j\n",
    "\n",
    "def quick(arr, low, high):\n",
    "    if low<high:\n",
    "        qin = pivot(arr, low, high)\n",
    "        quick(arr, low, qin-1)\n",
    "        quick(arr, qin+1, high)\n",
    "\n",
    "arr=[4,6,8,5,3,6,67,2]\n",
    "quick(arr, 0, len(arr)-1)\n",
    "print(arr)\n",
    "            "
   ]
  },
  {
   "cell_type": "code",
   "execution_count": 13,
   "metadata": {},
   "outputs": [
    {
     "name": "stdout",
     "output_type": "stream",
     "text": [
      "[3, 4, 6, 8, 6, 58]\n"
     ]
    }
   ],
   "source": [
    "def merge(arr):\n",
    "    if len(arr)<=1:\n",
    "        return arr\n",
    "    mid=len(arr)//2\n",
    "    left = arr[:mid]\n",
    "    right = arr[mid:]\n",
    "    \n",
    "    left = merge(left)\n",
    "    right = merge(right)\n",
    "    \n",
    "    \n",
    "    return msort(left, right)\n",
    "def msort(left,right):\n",
    "    m=[]\n",
    "    i=j=0\n",
    "    \n",
    "    while i< len(left) and j<len(right):\n",
    "        if left[i]<right[j]:\n",
    "            m.append(left[i])\n",
    "            i+=1\n",
    "        else:\n",
    "            m.append(right[j])\n",
    "            j+=1\n",
    "        while i<len(left):\n",
    "            m.append(left[i])\n",
    "            i+=1\n",
    "        while j<len(right):\n",
    "            m.append(right[j])\n",
    "            j+=1\n",
    "        return m\n",
    "\n",
    "print(merge([4,6,8,3,58,6]))\n",
    "            \n",
    "        "
   ]
  }
 ],
 "metadata": {
  "kernelspec": {
   "display_name": "Python 3",
   "language": "python",
   "name": "python3"
  },
  "language_info": {
   "codemirror_mode": {
    "name": "ipython",
    "version": 3
   },
   "file_extension": ".py",
   "mimetype": "text/x-python",
   "name": "python",
   "nbconvert_exporter": "python",
   "pygments_lexer": "ipython3",
   "version": "3.12.1"
  }
 },
 "nbformat": 4,
 "nbformat_minor": 2
}
