{
 "cells": [
  {
   "cell_type": "code",
   "execution_count": null,
   "metadata": {},
   "outputs": [],
   "source": [
    "def pivot(arr, low, high):\n",
    "    pivot = arr[low]\n",
    "    left = low+1\n",
    "    right = high\n",
    "    \n",
    "    while True:\n",
    "        if left> right and arr[left ]> pivot:\n",
    "            \n",
    "    "
   ]
  }
 ],
 "metadata": {
  "language_info": {
   "name": "python"
  }
 },
 "nbformat": 4,
 "nbformat_minor": 2
}
