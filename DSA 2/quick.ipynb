{
 "cells": [
  {
   "cell_type": "code",
   "execution_count": 3,
   "metadata": {},
   "outputs": [
    {
     "name": "stdout",
     "output_type": "stream",
     "text": [
      "[1, 2, 3, 4, 6, 4, 7]\n"
     ]
    }
   ],
   "source": [
    "def pivot(arr, low, high):\n",
    "    piv = arr[low]\n",
    "    left = low+1\n",
    "    right = high\n",
    "    \n",
    "    while True:\n",
    "        while left<=right and arr[left]<= piv:\n",
    "            left+=1\n",
    "        while left<=right and arr[left]>= piv:\n",
    "            right -=1\n",
    "        if left<= right:\n",
    "            arr[left], arr[right] = arr[right], arr[left]\n",
    "        else:\n",
    "            break\n",
    "    arr[right], arr[low] = arr[low], arr[right]\n",
    "    return right\n",
    "def quick(arr, low, high):\n",
    "    if low<high:\n",
    "        piv_in = pivot(arr, low, high)\n",
    "        quick(arr, low, piv_in-1)\n",
    "        quick(arr, piv_in+1, high)\n",
    "        \n",
    "ar=[6,4,3,2,1,7,4]\n",
    "quick(ar, 0, len(ar)-1)\n",
    "print(ar)"
   ]
  },
  {
   "cell_type": "code",
   "execution_count": 9,
   "metadata": {},
   "outputs": [
    {
     "name": "stdout",
     "output_type": "stream",
     "text": [
      "[2, 2, 3, 5, 7, 8, 9, 95]\n"
     ]
    }
   ],
   "source": [
    "def pivot(arr, low, high):\n",
    "    p = arr[low]\n",
    "    i = low+1\n",
    "    j =high\n",
    "    \n",
    "    while True:\n",
    "        while i<=j and arr[i]<=p:\n",
    "            i+=1\n",
    "        while i<=j and arr[j]>=p:\n",
    "            j-=1\n",
    "        if i<=j:\n",
    "            arr[i], arr[j] = arr[j], arr[i]\n",
    "        else:\n",
    "            break\n",
    "    arr[j], arr[low] = arr[low], arr[j]\n",
    "    return j\n",
    "\n",
    "def quick(arr, low, high):\n",
    "    if low<high:\n",
    "        ind = pivot(arr,low, high)\n",
    "        quick(arr,low, ind-1 )\n",
    "        quick(arr, ind+1, high)\n",
    "\n",
    "arr=[3,7,2,8,95,2,5,9]\n",
    "quick(arr, 0, len(arr)-1)\n",
    "print(arr)"
   ]
  },
  {
   "cell_type": "code",
   "execution_count": 14,
   "metadata": {},
   "outputs": [
    {
     "name": "stdout",
     "output_type": "stream",
     "text": [
      "[4, 1, 7, 7, 5, 3, 6, 7, 9]\n"
     ]
    }
   ],
   "source": [
    "def p(arr, low, high):\n",
    "    pi =arr[low]\n",
    "    i =low+1\n",
    "    j=high\n",
    "    \n",
    "    while True:\n",
    "        while i<=j and arr[i]<=pi:\n",
    "            i+=1\n",
    "        while i<=j and arr[i]>=pi:\n",
    "            j-=1\n",
    "        if i<=j:\n",
    "            arr[j], arr[i]=arr[i], arr[j]\n",
    "        else:\n",
    "            break\n",
    "    arr[j], arr[low] =arr[low], arr[j]\n",
    "    return j\n",
    "\n",
    "def quick(arr, low, high):\n",
    "    if low<high:\n",
    "        ind = p(arr, low, high)\n",
    "        quick(arr, low, ind-1)\n",
    "        quick(arr, ind+1, high)\n",
    "\n",
    "li=[4,7,1,7,9,6,3,5,7]\n",
    "quick(li,0,len(li)-1)\n",
    "print(li)"
   ]
  },
  {
   "cell_type": "code",
   "execution_count": null,
   "metadata": {},
   "outputs": [],
   "source": []
  }
 ],
 "metadata": {
  "kernelspec": {
   "display_name": "Python 3",
   "language": "python",
   "name": "python3"
  },
  "language_info": {
   "codemirror_mode": {
    "name": "ipython",
    "version": 3
   },
   "file_extension": ".py",
   "mimetype": "text/x-python",
   "name": "python",
   "nbconvert_exporter": "python",
   "pygments_lexer": "ipython3",
   "version": "3.12.1"
  }
 },
 "nbformat": 4,
 "nbformat_minor": 2
}
