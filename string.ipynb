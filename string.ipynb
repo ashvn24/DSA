{
 "cells": [
  {
   "cell_type": "code",
   "execution_count": 3,
   "metadata": {},
   "outputs": [
    {
     "name": "stdout",
     "output_type": "stream",
     "text": [
      "hl\n"
     ]
    }
   ],
   "source": [
    "# remove vowel\n",
    "def vowel(string):\n",
    "    vow='aeiouAeiou'\n",
    "    str=''\n",
    "    for i in string:\n",
    "        \n",
    "        if i not in vow:\n",
    "            str+=i\n",
    "    return str\n",
    "\n",
    "string='heloo'\n",
    "wd=vowel(string)\n",
    "print(wd)"
   ]
  },
  {
   "cell_type": "code",
   "execution_count": 4,
   "metadata": {},
   "outputs": [
    {
     "name": "stdout",
     "output_type": "stream",
     "text": [
      "doing\n"
     ]
    }
   ],
   "source": [
    "# largest word in sentence\n",
    "\n",
    "def large(word):\n",
    "    wd=word.split()\n",
    "    largest=''\n",
    "    for i in wd:\n",
    "        if len(i)>len(largest):\n",
    "            largest=i\n",
    "    return largest\n",
    "\n",
    "word='hii how are you doing'\n",
    "lg=large(word)\n",
    "print(lg)"
   ]
  },
  {
   "cell_type": "code",
   "execution_count": 2,
   "metadata": {},
   "outputs": [
    {
     "name": "stdout",
     "output_type": "stream",
     "text": [
      "Hii How Are You All\n"
     ]
    }
   ],
   "source": [
    "\n",
    "#replace first letter with uppercase\n",
    "\n",
    "def upper(sentence):\n",
    "    new=''\n",
    "    newsent=[]\n",
    "    word=sentence.split()\n",
    "    for i in word:\n",
    "        new=i[0].upper()+i[1:]\n",
    "        newsent.append(new)\n",
    "    return ' '.join(newsent)\n",
    "\n",
    "sen='hii how are you all'\n",
    "wd=upper(sen)\n",
    "print(wd)"
   ]
  },
  {
   "cell_type": "code",
   "execution_count": 11,
   "metadata": {},
   "outputs": [
    {
     "name": "stdout",
     "output_type": "stream",
     "text": [
      "Hello World Hii\n"
     ]
    }
   ],
   "source": [
    "def replce_first(string):\n",
    "    new=''\n",
    "    new2=[]\n",
    "    new=string.split()\n",
    "    for word in new:\n",
    "        res=word[0].upper()+ word[1:]\n",
    "        new2.append(res)\n",
    "    return ' '.join(new2)\n",
    "\n",
    "input='hello world hii'\n",
    "result=replce_first(input)\n",
    "print(result)"
   ]
  },
  {
   "cell_type": "code",
   "execution_count": 1,
   "metadata": {},
   "outputs": [
    {
     "name": "stdout",
     "output_type": "stream",
     "text": [
      "Start Index: 34\n",
      "End Index: 40\n"
     ]
    }
   ],
   "source": [
    "import re \n",
    "\n",
    "s = 'GeeksforGeeks: A computer science portal for geeks'\n",
    "\n",
    "match = re.search(r'portal', s) \n",
    "\n",
    "print('Start Index:', match.start()) \n",
    "print('End Index:', match.end()) \n"
   ]
  },
  {
   "cell_type": "code",
   "execution_count": 5,
   "metadata": {},
   "outputs": [
    {
     "name": "stdout",
     "output_type": "stream",
     "text": [
      "m:2\n",
      "y:1\n",
      "n:2\n",
      "a:2\n",
      "e:1\n",
      "i:2\n",
      "s:2\n",
      "h:1\n",
      "w:1\n"
     ]
    }
   ],
   "source": [
    "def count(string):\n",
    "    letter_count={}\n",
    "    for char in string:\n",
    "        if char.isalpha():\n",
    "            char=char.lower()\n",
    "            letter_count[char]=letter_count.get(char,0)+1\n",
    "    return letter_count\n",
    "\n",
    "inp=input(\"enter the string\")\n",
    "res=count(inp)\n",
    "for letter,coun in res.items():\n",
    "    print(f\"{letter}:{coun}\")"
   ]
  },
  {
   "cell_type": "code",
   "execution_count": 3,
   "metadata": {},
   "outputs": [
    {
     "name": "stdout",
     "output_type": "stream",
     "text": [
      "h: 1\n",
      "e: 1\n",
      "l: 3\n",
      "o: 2\n",
      "w: 1\n",
      "r: 1\n",
      "d: 1\n"
     ]
    }
   ],
   "source": [
    "def count_letters(sentence):\n",
    "    letter_counts = {}\n",
    "\n",
    "    for char in sentence:\n",
    "        if char.isalpha():  # Check if the character is a letter\n",
    "            char = char.lower()  # Convert to lowercase to treat 'A' and 'a' as the same letter\n",
    "            letter_counts[char] = letter_counts.get(char, 0) + 1\n",
    "\n",
    "    return letter_counts\n",
    "\n",
    "# Example usage:\n",
    "sentence = \"Hello, World!\"\n",
    "result = count_letters(sentence)\n",
    "\n",
    "# Display the result\n",
    "for letter, count in result.items():\n",
    "    print(f\"{letter}: {count}\")\n"
   ]
  },
  {
   "cell_type": "code",
   "execution_count": 6,
   "metadata": {},
   "outputs": [
    {
     "name": "stdout",
     "output_type": "stream",
     "text": [
      "h:2\n",
      "e:2\n",
      "l:1\n",
      "o:4\n",
      "w:1\n",
      "a:1\n",
      "r:1\n",
      "y:1\n",
      "u:1\n"
     ]
    }
   ],
   "source": [
    "def count_lett(string):\n",
    "    # wd=string.split()\n",
    "    count={}\n",
    "    for i in string:\n",
    "        if i.isalpha():\n",
    "            i=i.lower()\n",
    "            count[i]=count.get(i,0)+1\n",
    "    return count\n",
    "\n",
    "sen=input(\"enter the sentence\")\n",
    "res=count_lett(sen)\n",
    "for i,j in res.items():\n",
    "    print(f\"{i}:{j}\")"
   ]
  }
 ],
 "metadata": {
  "kernelspec": {
   "display_name": "Python 3",
   "language": "python",
   "name": "python3"
  },
  "language_info": {
   "codemirror_mode": {
    "name": "ipython",
    "version": 3
   },
   "file_extension": ".py",
   "mimetype": "text/x-python",
   "name": "python",
   "nbconvert_exporter": "python",
   "pygments_lexer": "ipython3",
   "version": "3.12.1"
  }
 },
 "nbformat": 4,
 "nbformat_minor": 2
}
