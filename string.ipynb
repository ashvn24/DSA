{
 "cells": [
  {
   "cell_type": "code",
   "execution_count": 3,
   "metadata": {},
   "outputs": [
    {
     "name": "stdout",
     "output_type": "stream",
     "text": [
      "hl\n"
     ]
    }
   ],
   "source": [
    "# remove vowel\n",
    "def vowel(string):\n",
    "    vow='aeiouAeiou'\n",
    "    str=''\n",
    "    for i in string:\n",
    "        \n",
    "        if i not in vow:\n",
    "            str+=i\n",
    "    return str\n",
    "\n",
    "string='heloo'\n",
    "wd=vowel(string)\n",
    "print(wd)"
   ]
  },
  {
   "cell_type": "code",
   "execution_count": 4,
   "metadata": {},
   "outputs": [
    {
     "name": "stdout",
     "output_type": "stream",
     "text": [
      "doing\n"
     ]
    }
   ],
   "source": [
    "# largest word in sentence\n",
    "\n",
    "def large(word):\n",
    "    wd=word.split()\n",
    "    largest=''\n",
    "    for i in wd:\n",
    "        if len(i)>len(largest):\n",
    "            largest=i\n",
    "    return largest\n",
    "\n",
    "word='hii how are you doing'\n",
    "lg=large(word)\n",
    "print(lg)"
   ]
  },
  {
   "cell_type": "code",
   "execution_count": 14,
   "metadata": {},
   "outputs": [
    {
     "name": "stdout",
     "output_type": "stream",
     "text": [
      "Hii How Are You All\n"
     ]
    }
   ],
   "source": [
    "\n",
    "#replace first letter with uppercase\n",
    "\n",
    "def upper(sentence):\n",
    "    new=''\n",
    "    newsent=[]\n",
    "    word=sentence.split()\n",
    "    for i in word:\n",
    "        new=i[0].upper()+i[1:]\n",
    "        newsent.append(new)\n",
    "    return ' '.join(newsent)\n",
    "\n",
    "sen='hii how are you all'\n",
    "wd=upper(sen)\n",
    "print(wd)"
   ]
  },
  {
   "cell_type": "code",
   "execution_count": 11,
   "metadata": {},
   "outputs": [
    {
     "name": "stdout",
     "output_type": "stream",
     "text": [
      "Hello World Hii\n"
     ]
    }
   ],
   "source": [
    "def replce_first(string):\n",
    "    new=''\n",
    "    new2=[]\n",
    "    new=string.split()\n",
    "    for word in new:\n",
    "        res=word[0].upper()+ word[1:]\n",
    "        new2.append(res)\n",
    "    return ' '.join(new2)\n",
    "\n",
    "input='hello world hii'\n",
    "result=replce_first(input)\n",
    "print(result)"
   ]
  }
 ],
 "metadata": {
  "kernelspec": {
   "display_name": "Python 3",
   "language": "python",
   "name": "python3"
  },
  "language_info": {
   "codemirror_mode": {
    "name": "ipython",
    "version": 3
   },
   "file_extension": ".py",
   "mimetype": "text/x-python",
   "name": "python",
   "nbconvert_exporter": "python",
   "pygments_lexer": "ipython3",
   "version": "3.12.1"
  }
 },
 "nbformat": 4,
 "nbformat_minor": 2
}
