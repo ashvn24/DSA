{
 "cells": [
  {
   "cell_type": "code",
   "execution_count": 2,
   "metadata": {},
   "outputs": [
    {
     "name": "stdout",
     "output_type": "stream",
     "text": [
      "[4, 125, 64, 125, 27, 343, 1, 729, 27]\n"
     ]
    }
   ],
   "source": [
    "def list1(arr):\n",
    "    return([x*x if x%2==0 else x**3 for x in arr])\n",
    "\n",
    "print(list1(list(map(int,input('enter the array no.s').split()))))\n",
    "    "
   ]
  },
  {
   "cell_type": "code",
   "execution_count": 6,
   "metadata": {},
   "outputs": [
    {
     "name": "stdout",
     "output_type": "stream",
     "text": [
      "720\n"
     ]
    }
   ],
   "source": [
    "def fact(num):\n",
    "    return 1 if num==0 or num==1 else num*fact(num-1)\n",
    "\n",
    "print(fact(6))"
   ]
  },
  {
   "cell_type": "code",
   "execution_count": null,
   "metadata": {},
   "outputs": [],
   "source": [
    "def fact(num):\n",
    "    return 1 if num==0 or num==1 else num*fact(num-1)\n",
    "\n",
    "print(fact(6))"
   ]
  },
  {
   "cell_type": "code",
   "execution_count": 10,
   "metadata": {},
   "outputs": [
    {
     "name": "stdout",
     "output_type": "stream",
     "text": [
      "{'h': 2, 'i': 2, 'o': 2, 'w': 1, 'a': 1, 'r': 1, 'e': 1, 'y': 1, 'u': 2}\n"
     ]
    }
   ],
   "source": [
    "def letter_count(string):\n",
    "    letter={}\n",
    "    for char in string:\n",
    "        if char.isalpha():\n",
    "            char.lower()\n",
    "            letter[char]=letter.get(char,0)+1\n",
    "    return letter\n",
    "\n",
    "print(letter_count(input('enter the sentenance')))"
   ]
  },
  {
   "cell_type": "code",
   "execution_count": null,
   "metadata": {},
   "outputs": [],
   "source": [
    "def letter_count(string):\n",
    "    letter={}\n",
    "    for char in string:\n",
    "        if char.isalpha():\n",
    "            char.lower()\n",
    "            letter[char]=letter.get(char,0)+1\n",
    "    return letter\n",
    "\n",
    "print(letter_count(input('enter the sentenance')))"
   ]
  },
  {
   "cell_type": "code",
   "execution_count": 13,
   "metadata": {},
   "outputs": [
    {
     "name": "stdout",
     "output_type": "stream",
     "text": [
      "Heloo How\n"
     ]
    }
   ],
   "source": [
    "def capit(string):\n",
    "    return(' '.join(char.capitalize() for char in string.split()))\n",
    "\n",
    "print(capit('heloo how'))"
   ]
  },
  {
   "cell_type": "code",
   "execution_count": 15,
   "metadata": {},
   "outputs": [
    {
     "name": "stdout",
     "output_type": "stream",
     "text": [
      "[1, 4, 9, 16, 25, 36, 49, 64, 81, 100]\n"
     ]
    }
   ],
   "source": [
    "print([i**2 for i in range(1,11)])"
   ]
  },
  {
   "cell_type": "code",
   "execution_count": 16,
   "metadata": {},
   "outputs": [
    {
     "name": "stdout",
     "output_type": "stream",
     "text": [
      "{'a': 1, 'b': 2, 'c': 3, 'd': 4}\n"
     ]
    }
   ],
   "source": [
    "def merge(dic1,dic2):\n",
    "    return {**dic1,**dic2}\n",
    "\n",
    "print(merge({'a':1,'b':2},{'c':3,'d':4}))"
   ]
  },
  {
   "cell_type": "code",
   "execution_count": 20,
   "metadata": {},
   "outputs": [
    {
     "name": "stdout",
     "output_type": "stream",
     "text": [
      "[4, 16, 36, 64]\n"
     ]
    }
   ],
   "source": [
    "list1=[1,2,3,4,5,6,7,8,9]\n",
    "\n",
    "res=list(map(lambda x:x**2,filter(lambda x: x%2==0,list1)))\n",
    "print(res)"
   ]
  },
  {
   "cell_type": "code",
   "execution_count": 21,
   "metadata": {},
   "outputs": [
    {
     "name": "stdout",
     "output_type": "stream",
     "text": [
      "error\n"
     ]
    }
   ],
   "source": [
    "try:\n",
    "    re=10/0\n",
    "except ZeroDivisionError:\n",
    "    print('error')"
   ]
  },
  {
   "cell_type": "code",
   "execution_count": 1,
   "metadata": {},
   "outputs": [
    {
     "name": "stdout",
     "output_type": "stream",
     "text": [
      "[1, 16, 36, 64]\n"
     ]
    }
   ],
   "source": [
    "def find_sq(list1):\n",
    "    res=[x**2 if x%2==0 else x**3 for x in list1]\n",
    "    return res\n",
    "print(find_sq([1,4,6,8]))"
   ]
  },
  {
   "cell_type": "code",
   "execution_count": null,
   "metadata": {},
   "outputs": [],
   "source": [
    "def find_sq(list1):\n",
    "    res=[x**2 if x%2==0 else x**3 for x in list1]\n",
    "    return res\n",
    "print(find_sq([1,4,6,8]))"
   ]
  }
 ],
 "metadata": {
  "kernelspec": {
   "display_name": "Python 3",
   "language": "python",
   "name": "python3"
  },
  "language_info": {
   "codemirror_mode": {
    "name": "ipython",
    "version": 3
   },
   "file_extension": ".py",
   "mimetype": "text/x-python",
   "name": "python",
   "nbconvert_exporter": "python",
   "pygments_lexer": "ipython3",
   "version": "3.12.1"
  }
 },
 "nbformat": 4,
 "nbformat_minor": 2
}
