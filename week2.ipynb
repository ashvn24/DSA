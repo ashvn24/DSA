{
 "cells": [
  {
   "cell_type": "code",
   "execution_count": 4,
   "metadata": {},
   "outputs": [
    {
     "name": "stdout",
     "output_type": "stream",
     "text": [
      "before sorting[4, 7, 6, 9, 2, 3]\n",
      "after sorting[2, 3, 4, 6, 7, 9]\n"
     ]
    }
   ],
   "source": [
    "def bubble(arr):\n",
    "    for i in range(len(arr)-1):\n",
    "        for j in range(len(arr)-i-1):\n",
    "            if arr[j]>arr[j+1]:\n",
    "                arr[j],arr[j+1]=arr[j+1],arr[j]\n",
    "    return arr\n",
    "    \n",
    "arr=list(map(int,input(\"enter the elements to sort\").split()))\n",
    "print(f\"before sorting{arr}\")\n",
    "res=bubble(arr)\n",
    "print(f\"after sorting{res}\")"
   ]
  },
  {
   "cell_type": "code",
   "execution_count": 6,
   "metadata": {},
   "outputs": [
    {
     "name": "stdout",
     "output_type": "stream",
     "text": [
      "[1, 2, 3, 4, 5, 6, 7, 8]\n"
     ]
    }
   ],
   "source": [
    "def bubble(arr):\n",
    "    for i in range(len(arr)-1):\n",
    "        for j in range(len(arr)-i-1):\n",
    "            if arr[j]>arr[j+1]:\n",
    "                arr[j],arr[j+1]=arr[j+1],arr[j]\n",
    "    return arr\n",
    "\n",
    "arr=list(map(int,input(\"enter\").split()))\n",
    "res=bubble(arr)\n",
    "print(res)"
   ]
  },
  {
   "cell_type": "code",
   "execution_count": 7,
   "metadata": {},
   "outputs": [
    {
     "name": "stdout",
     "output_type": "stream",
     "text": [
      "[3, 5, 6, 7, 9]\n"
     ]
    }
   ],
   "source": [
    "#insertion sort\n",
    "def insertion(arr):\n",
    "    for i in range(1,len(arr)):\n",
    "        j=i\n",
    "        while arr[j-1]>arr[j] and j>0:\n",
    "            arr[j-1],arr[j]=arr[j],arr[j-1]\n",
    "            j-=1\n",
    "    return arr\n",
    "\n",
    "arr=[5,3,7,9,6]\n",
    "res=insertion(arr)\n",
    "print(res)"
   ]
  },
  {
   "cell_type": "code",
   "execution_count": 9,
   "metadata": {},
   "outputs": [
    {
     "name": "stdout",
     "output_type": "stream",
     "text": [
      "[0, 2, 3, 4, 5, 5, 6, 6, 8, 9]\n"
     ]
    }
   ],
   "source": [
    "def insertion(arr):\n",
    "    for i in range(1,len(arr)):\n",
    "        j=i\n",
    "        while arr[j-1]>arr[j] and j>0:\n",
    "            arr[j-1],arr[j]=arr[j],arr[j-1]\n",
    "            j-=1\n",
    "    return arr\n",
    "\n",
    "arr=list(map(int,input(\"enter the elements\").split()))\n",
    "res=insertion(arr)\n",
    "print(res)\n",
    "         \n",
    "        "
   ]
  },
  {
   "cell_type": "code",
   "execution_count": 21,
   "metadata": {},
   "outputs": [
    {
     "name": "stdout",
     "output_type": "stream",
     "text": [
      "[0, 1, 2, 3, 5, 7, 8]\n",
      "not found\n"
     ]
    }
   ],
   "source": [
    "def binary_rec(arr,x,low,high):\n",
    "    while low<=high:\n",
    "        mid=(low+high)//2\n",
    "        \n",
    "        if arr[mid]==x:\n",
    "            return mid\n",
    "        elif arr[mid]<x:\n",
    "            return binary_rec(arr,x,mid+1,high)\n",
    "        else:\n",
    "            return binary_rec(arr,x,low,mid-1)\n",
    "    else:\n",
    "        return -1\n",
    "\n",
    "def insertion(arr):\n",
    "    for i in range(1,len(arr)):\n",
    "        j=i\n",
    "        while arr[j-1]>arr[j] and j>0:\n",
    "            arr[j-1],arr[j]=arr[j],arr[j-1]\n",
    "            j-=1\n",
    "    return arr\n",
    "\n",
    "arr=list(map(int,input(\"enter the elements\").split()))\n",
    "x=int(input(\"enter the target\"))\n",
    "\n",
    "res=insertion(arr)\n",
    "print(res)\n",
    "pos=binary_rec(res,x,0,len(arr)-1)\n",
    "if pos!=-1:\n",
    "    print(pos+1)\n",
    "else:\n",
    "    print(\"not found\")"
   ]
  },
  {
   "cell_type": "code",
   "execution_count": 1,
   "metadata": {},
   "outputs": [
    {
     "ename": "KeyboardInterrupt",
     "evalue": "",
     "output_type": "error",
     "traceback": [
      "\u001b[1;31m---------------------------------------------------------------------------\u001b[0m",
      "\u001b[1;31mKeyboardInterrupt\u001b[0m                         Traceback (most recent call last)",
      "Cell \u001b[1;32mIn[1], line 24\u001b[0m\n\u001b[0;32m     21\u001b[0m         quick(arr,p\u001b[38;5;241m+\u001b[39m\u001b[38;5;241m1\u001b[39m,last)\n\u001b[0;32m     23\u001b[0m arr\u001b[38;5;241m=\u001b[39m[\u001b[38;5;241m3\u001b[39m,\u001b[38;5;241m6\u001b[39m,\u001b[38;5;241m8\u001b[39m,\u001b[38;5;241m3\u001b[39m,\u001b[38;5;241m7\u001b[39m,\u001b[38;5;241m9\u001b[39m]\n\u001b[1;32m---> 24\u001b[0m \u001b[43mquick\u001b[49m\u001b[43m(\u001b[49m\u001b[43marr\u001b[49m\u001b[43m,\u001b[49m\u001b[38;5;241;43m0\u001b[39;49m\u001b[43m,\u001b[49m\u001b[38;5;28;43mlen\u001b[39;49m\u001b[43m(\u001b[49m\u001b[43marr\u001b[49m\u001b[43m)\u001b[49m\u001b[38;5;241;43m-\u001b[39;49m\u001b[38;5;241;43m1\u001b[39;49m\u001b[43m)\u001b[49m\n\u001b[0;32m     25\u001b[0m \u001b[38;5;28mprint\u001b[39m(arr)\n",
      "Cell \u001b[1;32mIn[1], line 19\u001b[0m, in \u001b[0;36mquick\u001b[1;34m(arr, first, last)\u001b[0m\n\u001b[0;32m     17\u001b[0m \u001b[38;5;28;01mdef\u001b[39;00m \u001b[38;5;21mquick\u001b[39m(arr,first,last):\n\u001b[0;32m     18\u001b[0m     \u001b[38;5;28;01mif\u001b[39;00m first\u001b[38;5;241m<\u001b[39mlast:\n\u001b[1;32m---> 19\u001b[0m         p\u001b[38;5;241m=\u001b[39m\u001b[43mpivot\u001b[49m\u001b[43m(\u001b[49m\u001b[43marr\u001b[49m\u001b[43m,\u001b[49m\u001b[43mfirst\u001b[49m\u001b[43m,\u001b[49m\u001b[43mlast\u001b[49m\u001b[43m)\u001b[49m\n\u001b[0;32m     20\u001b[0m         quick(arr,first,p\u001b[38;5;241m-\u001b[39m\u001b[38;5;241m1\u001b[39m)\n\u001b[0;32m     21\u001b[0m         quick(arr,p\u001b[38;5;241m+\u001b[39m\u001b[38;5;241m1\u001b[39m,last)\n",
      "Cell \u001b[1;32mIn[1], line 6\u001b[0m, in \u001b[0;36mpivot\u001b[1;34m(arr, first, last)\u001b[0m\n\u001b[0;32m      4\u001b[0m left \u001b[38;5;241m=\u001b[39m first\u001b[38;5;241m+\u001b[39m\u001b[38;5;241m1\u001b[39m\n\u001b[0;32m      5\u001b[0m right \u001b[38;5;241m=\u001b[39m last\n\u001b[1;32m----> 6\u001b[0m \u001b[38;5;28;01mwhile\u001b[39;00m \u001b[38;5;28;01mTrue\u001b[39;00m:\n\u001b[0;32m      7\u001b[0m     \u001b[38;5;28;01mwhile\u001b[39;00m left\u001b[38;5;241m<\u001b[39mright \u001b[38;5;129;01mand\u001b[39;00m arr[left]\u001b[38;5;241m<\u001b[39m\u001b[38;5;241m=\u001b[39mpivot:\n\u001b[0;32m      8\u001b[0m         left\u001b[38;5;241m+\u001b[39m\u001b[38;5;241m=\u001b[39m\u001b[38;5;241m1\u001b[39m\n",
      "\u001b[1;31mKeyboardInterrupt\u001b[0m: "
     ]
    }
   ],
   "source": [
    "#quick sort\n",
    "def pivot(arr,first,last):\n",
    "    pivot=  arr[first]\n",
    "    left = first+1\n",
    "    right = last\n",
    "    while True:\n",
    "        while left<right and arr[left]<=pivot:\n",
    "            left+=1\n",
    "        while left<right and arr[right]>=pivot:\n",
    "            right-=1\n",
    "        if left>right:\n",
    "            break\n",
    "        else:\n",
    "            arr[left],arr[right]=arr[right],arr[left]\n",
    "    arr[first],arr[right]=arr[right],arr[first]\n",
    "    return right\n",
    "def quick(arr,first,last):\n",
    "    if first<last:\n",
    "        p=pivot(arr,first,last)\n",
    "        quick(arr,first,p-1)\n",
    "        quick(arr,p+1,last)\n",
    "        \n",
    "arr=[3,6,8,3,7,9]\n",
    "quick(arr,0,len(arr)-1)\n",
    "print(arr)"
   ]
  },
  {
   "cell_type": "code",
   "execution_count": 6,
   "metadata": {},
   "outputs": [
    {
     "name": "stdout",
     "output_type": "stream",
     "text": [
      "[3, 3, 3, 5, 5, 7, 78, 89]\n"
     ]
    }
   ],
   "source": [
    "def pivot(listx,first,last):\n",
    "    pivot=listx[first]\n",
    "    left=first+1\n",
    "    right=last\n",
    "    while True:\n",
    "        while left<=right and listx[left]<=pivot:\n",
    "            left+=1\n",
    "        while left<=right and listx[right]>=pivot:\n",
    "            right-=1\n",
    "        if left>right:\n",
    "            break\n",
    "        else:\n",
    "            listx[left],listx[right]=listx[right],listx[left]\n",
    "    listx[first],listx[right]=listx[right],listx[first]\n",
    "    return right\n",
    "\n",
    "def Quick(listx,first,last):\n",
    "    if first<last:\n",
    "        P=pivot(listx,first,last)\n",
    "        Quick(listx,first,P-1)\n",
    "        Quick(listx,P+1,last)\n",
    "        \n",
    "L=[5,7,3,5,89,3,78,3]\n",
    "Quick(L,0,len(L)-1)\n",
    "print(L)"
   ]
  },
  {
   "cell_type": "code",
   "execution_count": 11,
   "metadata": {},
   "outputs": [
    {
     "name": "stdout",
     "output_type": "stream",
     "text": [
      "[3, 7, 9, 5, 24, 6, 77]\n",
      "[3, 5, 6, 7, 9, 24, 77]\n"
     ]
    }
   ],
   "source": [
    "\n",
    "\n",
    "def pivot(arr,first,last):\n",
    "    pivot=arr[first]\n",
    "    left=first+1\n",
    "    right=last\n",
    "    \n",
    "    while True:\n",
    "        while left<=right and arr[left]<=pivot:\n",
    "            left+=1\n",
    "        while left<=right and arr[right]>=pivot:\n",
    "            right-=1\n",
    "        if left>right:\n",
    "            break\n",
    "        else:\n",
    "            arr[left],arr[right]=arr[right],arr[left]\n",
    "    arr[first],arr[right]=arr[right],arr[first]\n",
    "    return right\n",
    "\n",
    "def quick(arr,first,last):\n",
    "    if first<last:\n",
    "        p=pivot(arr,first,last)\n",
    "        quick(arr,first,p-1)\n",
    "        quick(arr,p+1,last)\n",
    "        \n",
    "L=[3,7,9,5,24,6,77]\n",
    "print(L)\n",
    "quick(L,0,len(L)-1)\n",
    "print(L)"
   ]
  },
  {
   "cell_type": "code",
   "execution_count": 15,
   "metadata": {},
   "outputs": [
    {
     "name": "stdout",
     "output_type": "stream",
     "text": [
      "[3, 6, 6, 7, 9]\n"
     ]
    }
   ],
   "source": [
    "def Merge(Listx):\n",
    "    if len(Listx)>1:\n",
    "        mid=len(Listx)//2\n",
    "        Left_lst=Listx[:mid]\n",
    "        Right_lst=Listx[mid:]\n",
    "        Merge(Left_lst)\n",
    "        Merge(Right_lst)\n",
    "        i=0\n",
    "        j=0\n",
    "        k=0\n",
    "        while i<len(Left_lst) and j< len(Right_lst):\n",
    "            if Left_lst[i]<Right_lst[j]:\n",
    "                Listx[k]=Left_lst[i]\n",
    "                i+=1\n",
    "                k+=1\n",
    "            else:\n",
    "                Listx[k]=Right_lst[j]\n",
    "                j+=1\n",
    "                k+=1\n",
    "        while i<len(Left_lst):\n",
    "            Listx[k]=Left_lst[i]\n",
    "            i+=1\n",
    "            k+=1\n",
    "        while j< len(Right_lst):\n",
    "            Listx[k]=Right_lst[j]\n",
    "            j+=1\n",
    "            k+=1\n",
    "            \n",
    "num=int(input('Enter the size: '))\n",
    "Listx=[int(input())for x in range(num)]\n",
    "Merge(Listx)\n",
    "print(Listx)"
   ]
  },
  {
   "cell_type": "code",
   "execution_count": 16,
   "metadata": {},
   "outputs": [
    {
     "name": "stdout",
     "output_type": "stream",
     "text": [
      "[3, 4, 6, 14, 18, 53, 53, 94]\n"
     ]
    }
   ],
   "source": [
    "list1=[4,6,3,53,53,18,94,14]\n",
    "for i in range(len(list1)):\n",
    "    min_indx=i\n",
    "    for j in range(i+1,len(list1)):\n",
    "        if list1[j]<list1[min_indx]:\n",
    "            min_indx=j\n",
    "    list1[i],list1[min_indx]=list1[min_indx],list1[i]\n",
    "print(list1)"
   ]
  },
  {
   "cell_type": "code",
   "execution_count": 17,
   "metadata": {},
   "outputs": [
    {
     "name": "stdout",
     "output_type": "stream",
     "text": [
      "[1, 2, 4, 6, 8, 9]\n"
     ]
    }
   ],
   "source": [
    "def selc(arr):\n",
    "    for i in range(len(arr)-1):\n",
    "        indx=i\n",
    "        for j in range(i+1,len(arr)):\n",
    "            if arr[j]<arr[indx]:\n",
    "                indx=j\n",
    "        arr[i],arr[indx]=arr[indx],arr[i]\n",
    "    print(arr)    \n",
    "\n",
    "arr=[4,6,2,8,9,1]\n",
    "selc(arr)"
   ]
  }
 ],
 "metadata": {
  "kernelspec": {
   "display_name": "Python 3",
   "language": "python",
   "name": "python3"
  },
  "language_info": {
   "codemirror_mode": {
    "name": "ipython",
    "version": 3
   },
   "file_extension": ".py",
   "mimetype": "text/x-python",
   "name": "python",
   "nbconvert_exporter": "python",
   "pygments_lexer": "ipython3",
   "version": "3.12.1"
  }
 },
 "nbformat": 4,
 "nbformat_minor": 2
}
