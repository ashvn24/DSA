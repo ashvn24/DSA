{
 "cells": [
  {
   "cell_type": "code",
   "execution_count": 4,
   "metadata": {},
   "outputs": [
    {
     "name": "stdout",
     "output_type": "stream",
     "text": [
      "before sorting[4, 7, 6, 9, 2, 3]\n",
      "after sorting[2, 3, 4, 6, 7, 9]\n"
     ]
    }
   ],
   "source": [
    "def bubble(arr):\n",
    "    for i in range(len(arr)-1):\n",
    "        for j in range(len(arr)-i-1):\n",
    "            if arr[j]>arr[j+1]:\n",
    "                arr[j],arr[j+1]=arr[j+1],arr[j]\n",
    "    return arr\n",
    "    \n",
    "arr=list(map(int,input(\"enter the elements to sort\").split()))\n",
    "print(f\"before sorting{arr}\")\n",
    "res=bubble(arr)\n",
    "print(f\"after sorting{res}\")"
   ]
  },
  {
   "cell_type": "code",
   "execution_count": 6,
   "metadata": {},
   "outputs": [
    {
     "name": "stdout",
     "output_type": "stream",
     "text": [
      "[1, 2, 3, 4, 5, 6, 7, 8]\n"
     ]
    }
   ],
   "source": [
    "def bubble(arr):\n",
    "    for i in range(len(arr)-1):\n",
    "        for j in range(len(arr)-i-1):\n",
    "            if arr[j]>arr[j+1]:\n",
    "                arr[j],arr[j+1]=arr[j+1],arr[j]\n",
    "    return arr\n",
    "\n",
    "arr=list(map(int,input(\"enter\").split()))\n",
    "res=bubble(arr)\n",
    "print(res)"
   ]
  },
  {
   "cell_type": "code",
   "execution_count": 7,
   "metadata": {},
   "outputs": [
    {
     "name": "stdout",
     "output_type": "stream",
     "text": [
      "[3, 5, 6, 7, 9]\n"
     ]
    }
   ],
   "source": [
    "#insertion sort\n",
    "def insertion(arr):\n",
    "    for i in range(1,len(arr)):\n",
    "        j=i\n",
    "        while arr[j-1]>arr[j] and j>0:\n",
    "            arr[j-1],arr[j]=arr[j],arr[j-1]\n",
    "            j-=1\n",
    "    return arr\n",
    "\n",
    "arr=[5,3,7,9,6]\n",
    "res=insertion(arr)\n",
    "print(res)"
   ]
  },
  {
   "cell_type": "code",
   "execution_count": 9,
   "metadata": {},
   "outputs": [
    {
     "name": "stdout",
     "output_type": "stream",
     "text": [
      "[0, 2, 3, 4, 5, 5, 6, 6, 8, 9]\n"
     ]
    }
   ],
   "source": [
    "def insertion(arr):\n",
    "    for i in range(1,len(arr)):\n",
    "        j=i\n",
    "        while arr[j-1]>arr[j] and j>0:\n",
    "            arr[j-1],arr[j]=arr[j],arr[j-1]\n",
    "            j-=1\n",
    "    return arr\n",
    "\n",
    "arr=list(map(int,input(\"enter the elements\").split()))\n",
    "res=insertion(arr)\n",
    "print(res)\n",
    "         \n",
    "        "
   ]
  },
  {
   "cell_type": "code",
   "execution_count": 21,
   "metadata": {},
   "outputs": [
    {
     "name": "stdout",
     "output_type": "stream",
     "text": [
      "[0, 1, 2, 3, 5, 7, 8]\n",
      "not found\n"
     ]
    }
   ],
   "source": [
    "def binary_rec(arr,x,low,high):\n",
    "    while low<=high:\n",
    "        mid=(low+high)//2\n",
    "        \n",
    "        if arr[mid]==x:\n",
    "            return mid\n",
    "        elif arr[mid]<x:\n",
    "            return binary_rec(arr,x,mid+1,high)\n",
    "        else:\n",
    "            return binary_rec(arr,x,low,mid-1)\n",
    "    else:\n",
    "        return -1\n",
    "\n",
    "def insertion(arr):\n",
    "    for i in range(1,len(arr)):\n",
    "        j=i\n",
    "        while arr[j-1]>arr[j] and j>0:\n",
    "            arr[j-1],arr[j]=arr[j],arr[j-1]\n",
    "            j-=1\n",
    "    return arr\n",
    "\n",
    "arr=list(map(int,input(\"enter the elements\").split()))\n",
    "x=int(input(\"enter the target\"))\n",
    "\n",
    "res=insertion(arr)\n",
    "print(res)\n",
    "pos=binary_rec(res,x,0,len(arr)-1)\n",
    "if pos!=-1:\n",
    "    print(pos+1)\n",
    "else:\n",
    "    print(\"not found\")"
   ]
  },
  {
   "cell_type": "code",
   "execution_count": null,
   "metadata": {},
   "outputs": [],
   "source": [
    "#quick sort"
   ]
  }
 ],
 "metadata": {
  "kernelspec": {
   "display_name": "Python 3",
   "language": "python",
   "name": "python3"
  },
  "language_info": {
   "codemirror_mode": {
    "name": "ipython",
    "version": 3
   },
   "file_extension": ".py",
   "mimetype": "text/x-python",
   "name": "python",
   "nbconvert_exporter": "python",
   "pygments_lexer": "ipython3",
   "version": "3.12.1"
  }
 },
 "nbformat": 4,
 "nbformat_minor": 2
}
