{
 "cells": [
  {
   "cell_type": "code",
   "execution_count": 1,
   "metadata": {},
   "outputs": [
    {
     "name": "stdout",
     "output_type": "stream",
     "text": [
      "<__main__.Node object at 0x000001F1609E3FB0>\n"
     ]
    }
   ],
   "source": [
    "class Node:\n",
    "    def __init__(self,data):\n",
    "        self.data=data\n",
    "        self.ref =None\n",
    "\n",
    "node=Node(5)\n",
    "print(node)"
   ]
  },
  {
   "cell_type": "code",
   "execution_count": 7,
   "metadata": {},
   "outputs": [
    {
     "ename": "TypeError",
     "evalue": "Node.__init__() takes 2 positional arguments but 4 were given",
     "output_type": "error",
     "traceback": [
      "\u001b[1;31m---------------------------------------------------------------------------\u001b[0m",
      "\u001b[1;31mTypeError\u001b[0m                                 Traceback (most recent call last)",
      "Cell \u001b[1;32mIn[7], line 20\u001b[0m\n\u001b[0;32m     18\u001b[0m                 \u001b[38;5;28mprint\u001b[39m(n\u001b[38;5;241m.\u001b[39mdata)\n\u001b[0;32m     19\u001b[0m                 n\u001b[38;5;241m=\u001b[39mn\u001b[38;5;241m.\u001b[39mref\n\u001b[1;32m---> 20\u001b[0m n\u001b[38;5;241m=\u001b[39m\u001b[43mNode\u001b[49m\u001b[43m(\u001b[49m\u001b[38;5;241;43m1\u001b[39;49m\u001b[43m,\u001b[49m\u001b[38;5;241;43m2\u001b[39;49m\u001b[43m,\u001b[49m\u001b[38;5;241;43m3\u001b[39;49m\u001b[43m)\u001b[49m\n\u001b[0;32m     21\u001b[0m LL1\u001b[38;5;241m=\u001b[39mLinkedList()\n\u001b[0;32m     22\u001b[0m \u001b[38;5;28mprint\u001b[39m(LL1)\n",
      "\u001b[1;31mTypeError\u001b[0m: Node.__init__() takes 2 positional arguments but 4 were given"
     ]
    }
   ],
   "source": [
    "#Traversal\n",
    "\n",
    "class Node:\n",
    "    def __init__(self,data):\n",
    "        self.head=data\n",
    "        self.ref= None\n",
    "    \n",
    "class LinkedList:\n",
    "    def __init__(self):\n",
    "        self.head=None\n",
    "    \n",
    "    def print(self):\n",
    "        if self.head is None:\n",
    "            print(\"LL empty\")\n",
    "        else:\n",
    "            n=self.head\n",
    "            while n is not None:\n",
    "                print(n.data)\n",
    "                n=n.ref\n",
    "LL1=LinkedList()\n",
    "print(LL1)"
   ]
  }
 ],
 "metadata": {
  "kernelspec": {
   "display_name": "Python 3",
   "language": "python",
   "name": "python3"
  },
  "language_info": {
   "codemirror_mode": {
    "name": "ipython",
    "version": 3
   },
   "file_extension": ".py",
   "mimetype": "text/x-python",
   "name": "python",
   "nbconvert_exporter": "python",
   "pygments_lexer": "ipython3",
   "version": "3.12.1"
  }
 },
 "nbformat": 4,
 "nbformat_minor": 2
}
